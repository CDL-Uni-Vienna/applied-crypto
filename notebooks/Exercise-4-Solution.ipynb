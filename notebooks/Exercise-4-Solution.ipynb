{
 "cells": [
  {
   "attachments": {},
   "cell_type": "markdown",
   "id": "7c6e22be-ae3a-4427-966e-b29b51eb9e00",
   "metadata": {},
   "source": [
    "# Introduction to Modern Cryptography: Quantum Computing"
   ]
  },
  {
   "cell_type": "markdown",
   "id": "893b2160-6472-46f2-a9fc-c1f86f75902e",
   "metadata": {},
   "source": [
    "For this exercise, we'll work with the Quantum Computing framework provided by IBM, called **qiskit**\n",
    "\n",
    "Be aware of some pitfalls in qiskit, expecially: [https://qiskit.org/documentation/explanation/endianness.html](https://qiskit.org/documentation/explanation/endianness.html)"
   ]
  },
  {
   "cell_type": "markdown",
   "id": "47a7eb56-c821-477d-8d94-8239944ffb0c",
   "metadata": {},
   "source": [
    "## 1. Quantum Computing\n",
    "\n",
    "Get yourself familiar with the (qiskit)[https://qiskit.org/documentation/getting_started.html] framework and implement some simple quantum algorithms"
   ]
  },
  {
   "cell_type": "markdown",
   "id": "a18ba9e6-7534-4c51-8a68-4ebfe221997d",
   "metadata": {},
   "source": [
    "### 1.1 Entanglement\n",
    "Implement the circuit that entangles two qubits to a so-called *Bell-State* \n",
    "<div style=\"max-width:300px\">\n",
    "<img src=\"circuits/The_Hadamard-CNOT_transform_on_the_zero-state.png\"/>\n",
    "</div>\n",
    "\n",
    "**Exercises:**\n",
    "- draw the circuit with qiskit\n",
    "- calculate the output as a **Statevector** and\n",
    "- simulate the output with the **AER-Simulator**\n",
    "\n"
   ]
  },
  {
   "cell_type": "code",
   "execution_count": 29,
   "id": "e2a6163a-1969-40a4-a8a5-3a600b324bfe",
   "metadata": {},
   "outputs": [
    {
     "name": "stderr",
     "output_type": "stream",
     "text": [
      "/usr/local/lib/python3.11/site-packages/qiskit/visualization/circuit/matplotlib.py:266: FutureWarning: The default matplotlib drawer scheme will be changed to \"iqp\" in a following release. To silence this warning, specify the current default explicitly as style=\"clifford\", or the new default as style=\"iqp\".\n",
      "  self._style, def_font_ratio = load_style(self._style)\n"
     ]
    },
    {
     "data": {
      "image/png": "[encoded data removed]",
      "text/plain": [
       "<Figure size 287.294x200.667 with 1 Axes>"
      ]
     },
     "execution_count": 29,
     "metadata": {},
     "output_type": "execute_result"
    }
   ],
   "source": [
    "import numpy as np\n",
    "from qiskit import QuantumCircuit\n",
    "\n",
    "## PLACE YOUR CODE TO DRAW THE CIRCUIT HERE\n",
    "\n",
    "bell = QuantumCircuit(2)\n",
    "bell.h(0)\n",
    "bell.cx(0,1)\n",
    "\n",
    "bell.draw(\"mpl\")"
   ]
  },
  {
   "cell_type": "code",
   "execution_count": 30,
   "id": "88a51a90-5e28-4b97-8775-63b323abe092",
   "metadata": {},
   "outputs": [
    {
     "data": {
      "text/latex": [
       "$$\\frac{\\sqrt{2}}{2} |00\\rangle+\\frac{\\sqrt{2}}{2} |11\\rangle$$"
      ],
      "text/plain": [
       "<IPython.core.display.Latex object>"
      ]
     },
     "execution_count": 30,
     "metadata": {},
     "output_type": "execute_result"
    }
   ],
   "source": [
    "from qiskit.quantum_info import Statevector\n",
    "\n",
    "## PLACE YOUR CODE TO CALCULATE THE STATEVECTOR HERE\n",
    "\n",
    "state = Statevector.from_int(0,2**2).evolve(bell)\n",
    "state.draw('latex')"
   ]
  },
  {
   "cell_type": "code",
   "execution_count": 31,
   "id": "d3bdabb2-382d-4876-a350-47ea505cb846",
   "metadata": {
    "editable": true,
    "slideshow": {
     "slide_type": ""
    },
    "tags": []
   },
   "outputs": [
    {
     "data": {
      "image/png": "[encoded data removed]",
      "text/plain": [
       "<Figure size 700x500 with 1 Axes>"
      ]
     },
     "execution_count": 31,
     "metadata": {},
     "output_type": "execute_result"
    }
   ],
   "source": [
    "from qiskit import Aer, transpile\n",
    "from qiskit.visualization import plot_histogram\n",
    "\n",
    "\n",
    "## PLACE YOUR CODE TO SIMULATE WITH AER SIMULATOR HERE AND PLOT THE RESULT\n",
    "bell.measure_all()\n",
    "backend = Aer.get_backend('qasm_simulator')\n",
    "result = backend.run(bell).result()\n",
    "\n",
    "plot_histogram(result.get_counts(bell))"
   ]
  },
  {
   "cell_type": "markdown",
   "id": "1cbf07bb-b16b-4118-8a5d-6385bd562b3f",
   "metadata": {},
   "source": [
    "### 1.2 Binary Adder\n",
    "Implement a circuit that represents the binary adder as used in the lecture\n",
    "<div style=\"max-width:500px\"><img src=\"circuits/adder.png\"/></div>"
   ]
  },
  {
   "cell_type": "code",
   "execution_count": 45,
   "id": "865eb7f7-8f89-4dfd-a1b5-7d3b39fa6a2a",
   "metadata": {
    "scrolled": true
   },
   "outputs": [
    {
     "data": {
      "image/png": "[encoded data removed]",
      "text/plain": [
       "<Figure size 454.719x367.889 with 1 Axes>"
      ]
     },
     "execution_count": 45,
     "metadata": {},
     "output_type": "execute_result"
    }
   ],
   "source": [
    "from qiskit import QuantumCircuit\n",
    "\n",
    "# DEVELOP YOUR ADDER HERE\n",
    "\n",
    "adder = QuantumCircuit(4, name=\"Adder\")\n",
    "adder.h([0,1])\n",
    "adder.cx(0,3)\n",
    "adder.cx(1,3)\n",
    "adder.ccx(0,1,2)\n",
    "adder.draw('mpl')"
   ]
  },
  {
   "cell_type": "code",
   "execution_count": 4,
   "id": "65076d9b-8094-4ca5-9b8b-4e0d249223b5",
   "metadata": {},
   "outputs": [],
   "source": [
    "## VERIFY THAT YOUR ADDER DOES WHAT EXPECTED"
   ]
  },
  {
   "cell_type": "code",
   "execution_count": 29,
   "id": "3ce19468-89ca-4a0b-b76f-1bae81090765",
   "metadata": {},
   "outputs": [
    {
     "data": {
      "text/latex": [
       "$$\\frac{1}{2} |0000\\rangle+\\frac{1}{2} |0111\\rangle+\\frac{1}{2} |1001\\rangle+\\frac{1}{2} |1010\\rangle$$"
      ],
      "text/plain": [
       "<IPython.core.display.Latex object>"
      ]
     },
     "execution_count": 29,
     "metadata": {},
     "output_type": "execute_result"
    }
   ],
   "source": [
    "state = Statevector.from_int(0,2**4).evolve(adder)\n",
    "state.draw('latex')"
   ]
  },
  {
   "cell_type": "markdown",
   "id": "5f875ee5-d20b-44ee-b722-e45e1154af73",
   "metadata": {},
   "source": [
    "## 2. Grover's algorithm\n",
    "We showed the quadratic speed-up of Grover's algorithm in the lecture.\n",
    "\n",
    "#### 2.1. Carry-Bit search\n",
    "Implement the full Grover algorithm for example *find the flipped carry bit |c>* of the binary adder, which was discussed in **Lecture 08**\n"
   ]
  },
  {
   "cell_type": "code",
   "execution_count": 43,
   "id": "09b6fa62-ee87-4657-a19b-d03221784d25",
   "metadata": {
    "scrolled": true
   },
   "outputs": [
    {
     "data": {
      "text/plain": [
       "<qiskit.circuit.instructionset.InstructionSet at 0x7fcedc6ce200>"
      ]
     },
     "execution_count": 43,
     "metadata": {},
     "output_type": "execute_result"
    }
   ],
   "source": [
    "from qiskit import QuantumCircuit, QuantumRegister\n",
    "from qiskit.circuit.library import MCXGate\n",
    "\n",
    "x = QuantumRegister(2)\n",
    "grover_2 = QuantumCircuit(x, name=\"Grover\")\n",
    "grover_2.h(x)\n",
    "grover_2.x(x)\n",
    "grover_2.h(x[1])\n",
    "grover_2.cx(0,1)\n",
    "grover_2.h(x[1])\n",
    "grover_2.x(x)\n",
    "grover_2.h(x)"
   ]
  },
  {
   "cell_type": "code",
   "execution_count": 63,
   "id": "03feec0f-6131-433d-87d3-2b0bcea5c7c0",
   "metadata": {},
   "outputs": [
    {
     "name": "stderr",
     "output_type": "stream",
     "text": [
      "/usr/local/lib/python3.11/site-packages/qiskit/visualization/circuit/matplotlib.py:266: FutureWarning: The default matplotlib drawer scheme will be changed to \"iqp\" in a following release. To silence this warning, specify the current default explicitly as style=\"clifford\", or the new default as style=\"iqp\".\n",
      "  self._style, def_font_ratio = load_style(self._style)\n"
     ]
    },
    {
     "data": {
      "image/png": "[encoded data removed]",
      "text/plain": [
       "<Figure size 700x500 with 1 Axes>"
      ]
     },
     "execution_count": 63,
     "metadata": {},
     "output_type": "execute_result"
    }
   ],
   "source": [
    "from qiskit.quantum_info import Statevector\n",
    "\n",
    "qc = QuantumCircuit(4)\n",
    "qc.x(2)\n",
    "qc.h(2)\n",
    "qc.barrier()\n",
    "qc.append(adder,[0,1,2,3])\n",
    "qc.cx(0,3)\n",
    "qc.cx(1,3)\n",
    "qc.append(grover_2,[0,1])\n",
    "\n",
    "qc.draw('mpl')\n",
    "qc.measure_all()\n",
    "backend = Aer.get_backend('qasm_simulator')\n",
    "result = backend.run(qc.decompose(reps=2)).result()\n",
    "\n",
    "plot_histogram(result.get_counts(qc))"
   ]
  },
  {
   "cell_type": "markdown",
   "id": "4cee516c-27f2-47b6-9184-599da7827149",
   "metadata": {},
   "source": [
    "#### 2.2 Search for a random Oracle\n",
    "\n",
    "Now, consider an Oracle that is given by the following function."
   ]
  },
  {
   "cell_type": "code",
   "execution_count": 1,
   "id": "2640c3ce-dbaf-4ca7-b4ad-c4c3998d2fd3",
   "metadata": {},
   "outputs": [],
   "source": [
    "from qiskit import QuantumCircuit, QuantumRegister\n",
    "from qiskit.circuit.library import MCXGate\n",
    "import random\n",
    "\n",
    "r1 = random.randint(0,2**7-1)\n",
    "r2 = random.randint(0,2**7-1)\n",
    "r3 = random.randint(0,2**7-1)\n",
    "\n",
    "# qc: the QuantumCircuit, the Oracle should be applied to\n",
    "# x_reg: QuantumRegister for the input register |x>. Size should be 7 qubits\n",
    "# f_x_reg: QuantumRegister for output |f(x)>. Size should be 1 qubit\n",
    "# \n",
    "# usage: \n",
    "#  x_reg = QuantumRegister(7,name=\"x\")\n",
    "#  f_x_reg = QuantumRegister(1, name=\"f(x)\")\n",
    "#  qc = QuantumCircuit(x_reg,f_x_reg)\n",
    "#\n",
    "#  oracle(qc,x_reg,f_x_reg)\n",
    "def oracle(qc: QuantumCircuit, x_reg:QuantumRegister, f_x_reg:QuantumRegister):\n",
    "    if len(x_reg) != 7 and len(f_x_reg) != 1:\n",
    "        raise Exception(\"x_reg should be 7 qubits, f_x_reg should be 1 qubit\") \n",
    "        return\n",
    "    oracle = QuantumCircuit(8, name=\"Oracle\")\n",
    "    x1 = MCXGate(num_ctrl_qubits=7,ctrl_state=r1)\n",
    "    x2 = MCXGate(num_ctrl_qubits=7,ctrl_state=r2)\n",
    "    x3 = MCXGate(num_ctrl_qubits=7,ctrl_state=r3)\n",
    "    oracle.append(x1,list(range(8)))\n",
    "    oracle.append(x2,list(range(8)))\n",
    "    oracle.append(x3,list(range(8)))\n",
    "    qc.append(oracle,x_reg[:]+f_x_reg[:])"
   ]
  },
  {
   "cell_type": "markdown",
   "id": "3e5b6451-44c8-41f0-b794-7938887cc760",
   "metadata": {},
   "source": [
    "Implement a Grover search to find out the **three** states that are \"marked\" with the Oracle:\n",
    "(you can view them with ```print(f\"{r1:07b},{r2:07b},{r3:07b}\")```\n",
    "\n",
    "- Build the circuit for a single Grover Iteration\n",
    "- Find out how many Iterations you need and run the full Grover algorithm"
   ]
  },
  {
   "cell_type": "code",
   "execution_count": 2,
   "id": "ef5456e9-fcfa-4082-92e0-82de009596f8",
   "metadata": {
    "scrolled": true
   },
   "outputs": [
    {
     "data": {
      "text/html": [
       "<pre style=\"word-wrap: normal;white-space: pre;background: #fff0;line-height: 1.1;font-family: &quot;Courier New&quot;,Courier,monospace\">      ┌───┐     ┌─────────┐┌───────────┐┌─────────┐┌───────────┐┌─────────┐»\n",
       " x_0: ┤ H ├─────┤0        ├┤0          ├┤0        ├┤0          ├┤0        ├»\n",
       "      ├───┤     │         ││           ││         ││           ││         │»\n",
       " x_1: ┤ H ├─────┤1        ├┤1          ├┤1        ├┤1          ├┤1        ├»\n",
       "      ├───┤     │         ││           ││         ││           ││         │»\n",
       " x_2: ┤ H ├─────┤2        ├┤2          ├┤2        ├┤2          ├┤2        ├»\n",
       "      ├───┤     │         ││           ││         ││           ││         │»\n",
       " x_3: ┤ H ├─────┤3        ├┤3 Diffusor ├┤3        ├┤3 Diffusor ├┤3        ├»\n",
       "      ├───┤     │  Oracle ││           ││  Oracle ││           ││  Oracle │»\n",
       " x_4: ┤ H ├─────┤4        ├┤4          ├┤4        ├┤4          ├┤4        ├»\n",
       "      ├───┤     │         ││           ││         ││           ││         │»\n",
       " x_5: ┤ H ├─────┤5        ├┤5          ├┤5        ├┤5          ├┤5        ├»\n",
       "      ├───┤     │         ││           ││         ││           ││         │»\n",
       " x_6: ┤ H ├─────┤6        ├┤6          ├┤6        ├┤6          ├┤6        ├»\n",
       "      ├───┤┌───┐│         │└───────────┘│         │└───────────┘│         │»\n",
       "f(x): ┤ X ├┤ H ├┤7        ├─────────────┤7        ├─────────────┤7        ├»\n",
       "      └───┘└───┘└─────────┘             └─────────┘             └─────────┘»\n",
       "«      ┌───────────┐┌─────────┐┌───────────┐┌─────────┐┌───────────┐\n",
       "« x_0: ┤0          ├┤0        ├┤0          ├┤0        ├┤0          ├\n",
       "«      │           ││         ││           ││         ││           │\n",
       "« x_1: ┤1          ├┤1        ├┤1          ├┤1        ├┤1          ├\n",
       "«      │           ││         ││           ││         ││           │\n",
       "« x_2: ┤2          ├┤2        ├┤2          ├┤2        ├┤2          ├\n",
       "«      │           ││         ││           ││         ││           │\n",
       "« x_3: ┤3 Diffusor ├┤3        ├┤3 Diffusor ├┤3        ├┤3 Diffusor ├\n",
       "«      │           ││  Oracle ││           ││  Oracle ││           │\n",
       "« x_4: ┤4          ├┤4        ├┤4          ├┤4        ├┤4          ├\n",
       "«      │           ││         ││           ││         ││           │\n",
       "« x_5: ┤5          ├┤5        ├┤5          ├┤5        ├┤5          ├\n",
       "«      │           ││         ││           ││         ││           │\n",
       "« x_6: ┤6          ├┤6        ├┤6          ├┤6        ├┤6          ├\n",
       "«      └───────────┘│         │└───────────┘│         │└───┬───┬───┘\n",
       "«f(x): ─────────────┤7        ├─────────────┤7        ├────┤ H ├────\n",
       "«                   └─────────┘             └─────────┘    └───┘    </pre>"
      ],
      "text/plain": [
       "      ┌───┐     ┌─────────┐┌───────────┐┌─────────┐┌───────────┐┌─────────┐»\n",
       " x_0: ┤ H ├─────┤0        ├┤0          ├┤0        ├┤0          ├┤0        ├»\n",
       "      ├───┤     │         ││           ││         ││           ││         │»\n",
       " x_1: ┤ H ├─────┤1        ├┤1          ├┤1        ├┤1          ├┤1        ├»\n",
       "      ├───┤     │         ││           ││         ││           ││         │»\n",
       " x_2: ┤ H ├─────┤2        ├┤2          ├┤2        ├┤2          ├┤2        ├»\n",
       "      ├───┤     │         ││           ││         ││           ││         │»\n",
       " x_3: ┤ H ├─────┤3        ├┤3 Diffusor ├┤3        ├┤3 Diffusor ├┤3        ├»\n",
       "      ├───┤     │  Oracle ││           ││  Oracle ││           ││  Oracle │»\n",
       " x_4: ┤ H ├─────┤4        ├┤4          ├┤4        ├┤4          ├┤4        ├»\n",
       "      ├───┤     │         ││           ││         ││           ││         │»\n",
       " x_5: ┤ H ├─────┤5        ├┤5          ├┤5        ├┤5          ├┤5        ├»\n",
       "      ├───┤     │         ││           ││         ││           ││         │»\n",
       " x_6: ┤ H ├─────┤6        ├┤6          ├┤6        ├┤6          ├┤6        ├»\n",
       "      ├───┤┌───┐│         │└───────────┘│         │└───────────┘│         │»\n",
       "f(x): ┤ X ├┤ H ├┤7        ├─────────────┤7        ├─────────────┤7        ├»\n",
       "      └───┘└───┘└─────────┘             └─────────┘             └─────────┘»\n",
       "«      ┌───────────┐┌─────────┐┌───────────┐┌─────────┐┌───────────┐\n",
       "« x_0: ┤0          ├┤0        ├┤0          ├┤0        ├┤0          ├\n",
       "«      │           ││         ││           ││         ││           │\n",
       "« x_1: ┤1          ├┤1        ├┤1          ├┤1        ├┤1          ├\n",
       "«      │           ││         ││           ││         ││           │\n",
       "« x_2: ┤2          ├┤2        ├┤2          ├┤2        ├┤2          ├\n",
       "«      │           ││         ││           ││         ││           │\n",
       "« x_3: ┤3 Diffusor ├┤3        ├┤3 Diffusor ├┤3        ├┤3 Diffusor ├\n",
       "«      │           ││  Oracle ││           ││  Oracle ││           │\n",
       "« x_4: ┤4          ├┤4        ├┤4          ├┤4        ├┤4          ├\n",
       "«      │           ││         ││           ││         ││           │\n",
       "« x_5: ┤5          ├┤5        ├┤5          ├┤5        ├┤5          ├\n",
       "«      │           ││         ││           ││         ││           │\n",
       "« x_6: ┤6          ├┤6        ├┤6          ├┤6        ├┤6          ├\n",
       "«      └───────────┘│         │└───────────┘│         │└───┬───┬───┘\n",
       "«f(x): ─────────────┤7        ├─────────────┤7        ├────┤ H ├────\n",
       "«                   └─────────┘             └─────────┘    └───┘    "
      ]
     },
     "execution_count": 2,
     "metadata": {},
     "output_type": "execute_result"
    }
   ],
   "source": [
    "from qiskit import QuantumCircuit, QuantumRegister\n",
    "import math\n",
    "\n",
    "def diffusor(qc:QuantumCircuit, x_reg:QuantumRegister):\n",
    "    reg = QuantumRegister(len(x_reg))\n",
    "    diff = QuantumCircuit(reg, name=\"Diffusor\")\n",
    "    diff.h(reg)\n",
    "    diff.x(reg)\n",
    "    diff.h(reg[-1])\n",
    "    diff.mcx(reg[:-1], reg[-1])\n",
    "    diff.h(reg[-1])\n",
    "    diff.x(reg)\n",
    "    diff.h(reg)\n",
    "    qc.append(diff,x_reg)\n",
    "\n",
    "N = 2**7\n",
    "k = 3\n",
    "\n",
    "x_reg = QuantumRegister(7,name=\"x\")\n",
    "f_x_reg = QuantumRegister(1, name=\"f(x)\")\n",
    "qc = QuantumCircuit(x_reg,f_x_reg)\n",
    "\n",
    "qc.h(x_reg)\n",
    "qc.x(f_x_reg)\n",
    "qc.h(f_x_reg)\n",
    "for i in range(math.floor(math.pi/4 * math.sqrt(N/k))):\n",
    "    oracle(qc,x_reg,f_x_reg)\n",
    "    diffusor(qc,x_reg)\n",
    "qc.h(f_x_reg)\n",
    "\n",
    "## Develop your code here. \n",
    "qc.draw()"
   ]
  },
  {
   "cell_type": "code",
   "execution_count": 168,
   "id": "e2172c23-32a7-42f7-a00b-edfbd74d62c8",
   "metadata": {},
   "outputs": [
    {
     "name": "stdout",
     "output_type": "stream",
     "text": [
      "1110010,1101110,0010000\n"
     ]
    },
    {
     "data": {
      "image/png": "[encoded data removed]",
      "text/plain": [
       "<Figure size 700x500 with 1 Axes>"
      ]
     },
     "execution_count": 168,
     "metadata": {},
     "output_type": "execute_result"
    }
   ],
   "source": [
    "qc.measure_all(x_reg)\n",
    "backend = Aer.get_backend('qasm_simulator')\n",
    "result = backend.run(qc.decompose(reps=2)).result()\n",
    "\n",
    "\n",
    "print(f\"{r1:07b},{r2:07b},{r3:07b}\")\n",
    "plot_histogram(result.get_counts(qc), number_to_keep=4)"
   ]
  }
 ],
 "metadata": {
  "kernelspec": {
   "display_name": "Python 3 (ipykernel)",
   "language": "python",
   "name": "python3"
  },
  "language_info": {
   "codemirror_mode": {
    "name": "ipython",
    "version": 3
   },
   "file_extension": ".py",
   "mimetype": "text/x-python",
   "name": "python",
   "nbconvert_exporter": "python",
   "pygments_lexer": "ipython3",
   "version": "3.11.7"
  }
 },
 "nbformat": 4,
 "nbformat_minor": 5
}
