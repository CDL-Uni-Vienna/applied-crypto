{
 "cells": [
  {
   "attachments": {},
   "cell_type": "markdown",
   "id": "7c6e22be-ae3a-4427-966e-b29b51eb9e00",
   "metadata": {},
   "source": [
    "# Applied (Quantum-) Cryptography: Quantum Fourier Transform and Shor's Algorithm"
   ]
  },
  {
   "cell_type": "markdown",
   "id": "893b2160-6472-46f2-a9fc-c1f86f75902e",
   "metadata": {},
   "source": [
    "For this exercise, we'll work with the Quantum Computing framework provided by IBM, called **qiskit**\n",
    "\n",
    "Be aware of some pitfalls in qiskit, expecially: [https://qiskit.org/documentation/explanation/endianness.html](https://qiskit.org/documentation/explanation/endianness.html)"
   ]
  },
  {
   "cell_type": "code",
   "execution_count": null,
   "id": "f3218eb1-6f4f-4bad-842c-72aa5e37b380",
   "metadata": {},
   "outputs": [],
   "source": [
    "!pip install qiskit[visualization] qiskit-aer"
   ]
  },
  {
   "cell_type": "markdown",
   "id": "47a7eb56-c821-477d-8d94-8239944ffb0c",
   "metadata": {},
   "source": [
    "## 1. Quantum Fourier Transformation\n",
    "\n",
    "Get yourself familiar with the (qiskit)[https://qiskit.org/documentation/getting_started.html] framework and implement some simple quantum algorithms"
   ]
  },
  {
   "cell_type": "markdown",
   "id": "a18ba9e6-7534-4c51-8a68-4ebfe221997d",
   "metadata": {
    "editable": true,
    "slideshow": {
     "slide_type": ""
    },
    "tags": []
   },
   "source": [
    "### 1.1 Entanglement\n",
    "Implement the circuit that entangles two qubits to a so-called *Bell-State* \n",
    "<div style=\"max-width:300px\">\n",
    "<img src=\"circuits/The_Hadamard-CNOT_transform_on_the_zero-state.png\"/>\n",
    "</div>\n",
    "\n",
    "**Exercises:**\n",
    "- draw the circuit with qiskit\n",
    "- calculate the output as a **Statevector** and\n",
    "- simulate the output with the **AER-Simulator**\n",
    "\n"
   ]
  },
  {
   "cell_type": "code",
   "execution_count": null,
   "id": "e2a6163a-1969-40a4-a8a5-3a600b324bfe",
   "metadata": {},
   "outputs": [],
   "source": [
    "import numpy as np\n",
    "from qiskit import QuantumCircuit\n",
    "\n",
    "## PLACE YOUR CODE TO DRAW THE CIRCUIT HERE\n"
   ]
  },
  {
   "cell_type": "code",
   "execution_count": null,
   "id": "88a51a90-5e28-4b97-8775-63b323abe092",
   "metadata": {},
   "outputs": [],
   "source": [
    "from qiskit.quantum_info import Statevector\n",
    "\n",
    "## PLACE YOUR CODE TO CALCULATE THE STATEVECTOR HERE"
   ]
  },
  {
   "cell_type": "code",
   "execution_count": null,
   "id": "d3bdabb2-382d-4876-a350-47ea505cb846",
   "metadata": {},
   "outputs": [],
   "source": [
    "from qiskit import Aer, transpile\n",
    "from qiskit.visualization import plot_histogram\n",
    "\n",
    "## PLACE YOUR CODE TO SIMULATE WITH AER SIMULATOR HERE AND PLOT THE RESULT\n"
   ]
  },
  {
   "cell_type": "markdown",
   "id": "1cbf07bb-b16b-4118-8a5d-6385bd562b3f",
   "metadata": {},
   "source": [
    "### 1.2 Binary Adder\n",
    "Implement a circuit that represents the binary adder as used in the lecture\n",
    "<div style=\"max-width:500px\"><img src=\"circuits/adder.png\"/></div>"
   ]
  },
  {
   "cell_type": "code",
   "execution_count": null,
   "id": "865eb7f7-8f89-4dfd-a1b5-7d3b39fa6a2a",
   "metadata": {
    "scrolled": true
   },
   "outputs": [],
   "source": [
    "from qiskit import QuantumCircuit\n",
    "\n",
    "# DEVELOP YOUR ADDER HERE\n"
   ]
  },
  {
   "cell_type": "code",
   "execution_count": null,
   "id": "65076d9b-8094-4ca5-9b8b-4e0d249223b5",
   "metadata": {},
   "outputs": [],
   "source": [
    "## VERIFY THAT YOUR ADDER DOES WHAT EXPECTED"
   ]
  },
  {
   "cell_type": "markdown",
   "id": "5f875ee5-d20b-44ee-b722-e45e1154af73",
   "metadata": {},
   "source": [
    "## 2. Grover's algorithm\n",
    "We showed the quadratic speed-up of Grover's algorithm in the lecture.\n",
    "\n",
    "#### 2.1. Carry-Bit search\n",
    "Implement the full Grover algorithm for example *find the flipped carry bit |c>* of the binary adder, which was discussed in **Lecture 08**\n"
   ]
  },
  {
   "cell_type": "code",
   "execution_count": null,
   "id": "09b6fa62-ee87-4657-a19b-d03221784d25",
   "metadata": {},
   "outputs": [],
   "source": [
    "### DEVELOP YOUR CODE HERE"
   ]
  },
  {
   "cell_type": "markdown",
   "id": "4cee516c-27f2-47b6-9184-599da7827149",
   "metadata": {},
   "source": [
    "#### 2.2 Search for a random Oracle\n",
    "\n",
    "Now, consider an Oracle that is given by the following function."
   ]
  },
  {
   "cell_type": "code",
   "execution_count": null,
   "id": "2640c3ce-dbaf-4ca7-b4ad-c4c3998d2fd3",
   "metadata": {},
   "outputs": [],
   "source": [
    "from qiskit import QuantumCircuit, QuantumRegister\n",
    "from qiskit.circuit.library import MCXGate\n",
    "import random\n",
    "\n",
    "r1 = random.randint(0,2**7-1)\n",
    "r2 = random.randint(0,2**7-1)\n",
    "r3 = random.randint(0,2**7-1)\n",
    "\n",
    "# qc: the QuantumCircuit, the Oracle should be applied to\n",
    "# x_reg: QuantumRegister for the input register |x>. Size should be 7 qubits\n",
    "# f_x_reg: QuantumRegister for output |f(x)>. Size should be 1 qubit\n",
    "# \n",
    "# usage: \n",
    "#  x_reg = QuantumRegister(7,name=\"x\")\n",
    "#  f_x_reg = QuantumRegister(1, name=\"f(x)\")\n",
    "#  qc = QuantumCircuit(x_reg,f_x_reg)\n",
    "#\n",
    "#  oracle(qc,x_reg,f_x_reg)\n",
    "def oracle(qc: QuantumCircuit, x_reg:QuantumRegister, f_x_reg:QuantumRegister):\n",
    "    if len(x_reg) != 7 and len(f_x_reg) != 1:\n",
    "        raise Exception(\"x_reg should be 7 qubits, f_x_reg should be 1 qubit\") \n",
    "        return\n",
    "    oracle = QuantumCircuit(8, name=\"Oracle\")\n",
    "    x1 = MCXGate(num_ctrl_qubits=7,ctrl_state=r1)\n",
    "    x2 = MCXGate(num_ctrl_qubits=7,ctrl_state=r2)\n",
    "    x3 = MCXGate(num_ctrl_qubits=7,ctrl_state=r3)\n",
    "    oracle.append(x1,list(range(8)))\n",
    "    oracle.append(x2,list(range(8)))\n",
    "    oracle.append(x3,list(range(8)))\n",
    "    qc.append(oracle,x_reg[:]+f_x_reg[:])"
   ]
  },
  {
   "cell_type": "markdown",
   "id": "3e5b6451-44c8-41f0-b794-7938887cc760",
   "metadata": {},
   "source": [
    "Implement a Grover search to find out the **three** states that are \"marked\" with the Oracle:\n",
    "(you can view them with ```print(f\"{r1:07b},{r2:07b},{r3:07b}\")```\n",
    "\n",
    "- Build the circuit for a single Grover Iteration\n",
    "- Find out how many Iterations you need and run the full Grover algorithm"
   ]
  },
  {
   "cell_type": "code",
   "execution_count": null,
   "id": "ef5456e9-fcfa-4082-92e0-82de009596f8",
   "metadata": {
    "scrolled": true
   },
   "outputs": [],
   "source": [
    "from qiskit import QuantumCircuit, QuantumRegister\n",
    "import math\n",
    "\n",
    "## implement the diffusor here:\n",
    "def diffusor(qc:QuantumCircuit, x_reg:QuantumRegister):\n",
    "    return 0\n",
    "## implement your code here\n",
    "N = 0\n",
    "k = 0"
   ]
  },
  {
   "cell_type": "code",
   "execution_count": null,
   "id": "e2172c23-32a7-42f7-a00b-edfbd74d62c8",
   "metadata": {},
   "outputs": [],
   "source": [
    "# simulate your circuit with AER and verify the results here"
   ]
  }
 ],
 "metadata": {
  "kernelspec": {
   "display_name": "Python 3 (ipykernel)",
   "language": "python",
   "name": "python3"
  },
  "language_info": {
   "codemirror_mode": {
    "name": "ipython",
    "version": 3
   },
   "file_extension": ".py",
   "mimetype": "text/x-python",
   "name": "python",
   "nbconvert_exporter": "python",
   "pygments_lexer": "ipython3",
   "version": "3.11.6"
  }
 },
 "nbformat": 4,
 "nbformat_minor": 5
}
