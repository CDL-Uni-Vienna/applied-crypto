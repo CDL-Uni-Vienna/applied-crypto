{
 "cells": [
  {
   "attachments": {},
   "cell_type": "markdown",
   "id": "7c6e22be-ae3a-4427-966e-b29b51eb9e00",
   "metadata": {},
   "source": [
    "# Introduction to Modern Cryptography: Shor's Algorithm"
   ]
  },
  {
   "cell_type": "markdown",
   "id": "893b2160-6472-46f2-a9fc-c1f86f75902e",
   "metadata": {},
   "source": [
    "For this exercise, we'll work with the Quantum Computing framework provided by IBM, called **qiskit**\n",
    "\n",
    "Be aware of some pitfalls in qiskit, expecially: [https://qiskit.org/documentation/explanation/endianness.html](https://qiskit.org/documentation/explanation/endianness.html)"
   ]
  },
  {
   "cell_type": "markdown",
   "id": "47a7eb56-c821-477d-8d94-8239944ffb0c",
   "metadata": {},
   "source": [
    "## 1. Quantum Fourier Transfrom\n",
    "\n",
    "Get yourself familiar with the [qiskit](https://qiskit.org/documentation/getting_started.html) framework and its [QFT](https://learn.qiskit.org/course/ch-algorithms/quantum-fourier-transform) implemementation"
   ]
  },
  {
   "cell_type": "markdown",
   "id": "a18ba9e6-7534-4c51-8a68-4ebfe221997d",
   "metadata": {
    "editable": true,
    "slideshow": {
     "slide_type": ""
    },
    "tags": []
   },
   "source": [
    "### 1.1 QFT\n",
    "Implement the circuit for the QFT and inverse QFT for **four** qubits in qiskit\n"
   ]
  },
  {
   "cell_type": "code",
   "execution_count": null,
   "id": "e2a6163a-1969-40a4-a8a5-3a600b324bfe",
   "metadata": {},
   "outputs": [],
   "source": [
    "import numpy as np\n",
    "from qiskit import * \n",
    "from qiskit.circuit.library import QFT\n",
    "\n",
    "## PLACE YOUR CODE TO DRAW THE QFT CIRCUIT HERE\n"
   ]
  },
  {
   "cell_type": "code",
   "execution_count": null,
   "id": "ac9a82e7-613f-411e-a12e-0997f30ce848",
   "metadata": {
    "scrolled": true
   },
   "outputs": [],
   "source": [
    "import numpy as np\n",
    "from qiskit import * \n",
    "from qiskit.circuit.library import QFT\n",
    "\n",
    "## PLACE YOUR CODE TO DRAW THE Inverse QFT CIRCUIT HERE\n"
   ]
  },
  {
   "cell_type": "markdown",
   "id": "1cbf07bb-b16b-4118-8a5d-6385bd562b3f",
   "metadata": {},
   "source": [
    "### 1.2 QFT Counter\n",
    "Remember the unit circle, that we used to describe what the Discrete Fourier Transform does.\n",
    "<div style=\"max-width:300px\"><img src=\"circuits/ucircle.png\"/></div>\n",
    "\n",
    "With that, you can imagine arithmetic operations in the \"Fourier-Basis\", where every position on the unit circle represents a number.\n",
    "By rotating a given state in this circle by a certain angle, one can add/subtract/multiply number (modulus n) in the fourier basis.\n",
    "The application of an \"Inverse QFT\" will lead back to the computational basis.\n",
    "\n",
    "**Ecercise**\n",
    "Implement a *Counter* in the Fourier basis by, that can counter from 0 - 15\n",
    "- Create a register for the counter\n",
    "- Transfom it to the Fourier Basis\n",
    "- increase the counter a given random number of times\n",
    "- Measure the result\n",
    "\n",
    "*(hint: read this tutorial: https://pennylane.ai/qml/demos/tutorial_qft_arithmetics/)*"
   ]
  },
  {
   "cell_type": "code",
   "execution_count": null,
   "id": "865eb7f7-8f89-4dfd-a1b5-7d3b39fa6a2a",
   "metadata": {},
   "outputs": [],
   "source": [
    "import numpy as np\n",
    "import random\n",
    "from qiskit import * \n",
    "from qiskit.circuit.library import QFT\n",
    "\n",
    "k = random.randint(1,15)\n",
    "# DEVELOP YOUR ADDER HERE\n"
   ]
  },
  {
   "cell_type": "code",
   "execution_count": null,
   "id": "65076d9b-8094-4ca5-9b8b-4e0d249223b5",
   "metadata": {},
   "outputs": [],
   "source": [
    "## VERIFY THAT YOUR ADDER DOES WHAT EXPECTED BY CHECKING THE STATEVECTOR"
   ]
  },
  {
   "cell_type": "markdown",
   "id": "5f875ee5-d20b-44ee-b722-e45e1154af73",
   "metadata": {},
   "source": [
    "## 2. Shor's Algorithm\n",
    "Try to implement Shor's Algorithm by yourself. "
   ]
  },
  {
   "cell_type": "code",
   "execution_count": null,
   "id": "9078a86d-e43c-424e-bc50-984b430c0207",
   "metadata": {},
   "outputs": [],
   "source": [
    "!pip install qiskit_algorithms"
   ]
  },
  {
   "cell_type": "code",
   "execution_count": null,
   "id": "e15defd8-d740-44ff-b11c-d7e53ee9087a",
   "metadata": {},
   "outputs": [],
   "source": [
    "from circuits.Shor import *\n",
    "backend = Aer.get_backend('qasm_simulator')"
   ]
  },
  {
   "cell_type": "markdown",
   "id": "c063f81c-c947-470c-9b88-f379ec0b7367",
   "metadata": {
    "editable": true,
    "slideshow": {
     "slide_type": ""
    },
    "tags": []
   },
   "source": [
    "#### 2.1. Find Period\n",
    "Use the class ```MyShor(a=2, N=21)``` provided under ```from circuits.Shor import *``` to find the period of the function ```a^x mod N```\n",
    "\n",
    "*(hint: depending on your computer, this might take a few seconds/minutes)*"
   ]
  },
  {
   "cell_type": "code",
   "execution_count": null,
   "id": "182f4f7e-9e21-4eee-8177-35b64d1a518a",
   "metadata": {
    "editable": true,
    "slideshow": {
     "slide_type": ""
    },
    "tags": []
   },
   "outputs": [],
   "source": [
    "from circuits.Shor import *\n",
    "\n",
    "a = 2\n",
    "N = 21\n",
    "\n",
    "#PUT YOUR CODE HERE\n"
   ]
  },
  {
   "cell_type": "markdown",
   "id": "dda26685-b646-4140-92e4-eb8f096dbaf2",
   "metadata": {},
   "source": [
    "#### 2.2. Shor's Algorithm to break RSA\n",
    "Implement the full Shor's algorithm, that given a public key ```pk``` and ```N``` outputs the secret key ```sk```\n",
    "\n",
    "Test you implementation with the following inputs:\n",
    "- pk = 5, N = 21\n",
    "- pk = 3, N = 55"
   ]
  },
  {
   "cell_type": "code",
   "execution_count": null,
   "id": "cd3fefac-6704-48f9-a343-0f803632239a",
   "metadata": {
    "editable": true,
    "scrolled": true,
    "slideshow": {
     "slide_type": ""
    },
    "tags": []
   },
   "outputs": [],
   "source": [
    "#Input\n",
    "# BE CAREFUL, THIS MIGHT TAKE A WHILE\n",
    "breakRSA(pk=17,N=21)"
   ]
  },
  {
   "cell_type": "code",
   "execution_count": null,
   "id": "3cf3ccc0-b289-4c89-814c-1ca03ef1e286",
   "metadata": {
    "editable": true,
    "slideshow": {
     "slide_type": ""
    },
    "tags": []
   },
   "outputs": [],
   "source": [
    "import random\n",
    "def breakRSA(pk: int, N: int):\n",
    "    #DEVELOP YOUR CODE TO BREAK RSA HERE\n",
    "\n",
    "def shors(N: int):\n",
    "    #IMPLEMENT SHOR'S ALGORITHM HERE"
   ]
  }
 ],
 "metadata": {
  "kernelspec": {
   "display_name": "Python 3 (ipykernel)",
   "language": "python",
   "name": "python3"
  },
  "language_info": {
   "codemirror_mode": {
    "name": "ipython",
    "version": 3
   },
   "file_extension": ".py",
   "mimetype": "text/x-python",
   "name": "python",
   "nbconvert_exporter": "python",
   "pygments_lexer": "ipython3",
   "version": "3.11.6"
  }
 },
 "nbformat": 4,
 "nbformat_minor": 5
}
