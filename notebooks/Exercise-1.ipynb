{
 "cells": [
  {
   "cell_type": "markdown",
   "metadata": {},
   "source": [
    "# Introduction to Modern Cryptography: Exercise Symmetric Encryption"
   ]
  },
  {
   "cell_type": "markdown",
   "metadata": {},
   "source": [
    "## Table of Contents\n",
    "1. [The PyCrypto Library](#pycrypto)\n",
    "2. [Exercise 1. Advanced Encryption Standard](#aes)\n",
    "  1. [AES-ECB](#1.1-AES-ECB)\n",
    "  2. [AES-ECB](#1.1-AES-CBC)\n",
    "  2. [AES-ECB](#1.2-AES-CTR)\n",
    "3. [Exercise 2: ChaCha20](#chacha)"
   ]
  },
  {
   "cell_type": "markdown",
   "metadata": {},
   "source": [
    "## The PyCrypto Libarary <a name='pycrypto'/>\n",
    "\n",
    "Python offers a library called [pycrypto](https://www.dlitz.net/software/pycrypto/) which includes various cryptographic algorithms, among them AES.\n",
    "\n",
    "If you're using the Docker images, the library is already installed on your image, otherwise you install it using *pip* "
   ]
  },
  {
   "cell_type": "code",
   "execution_count": null,
   "metadata": {},
   "outputs": [],
   "source": [
    "pip install pycrypto --user"
   ]
  },
  {
   "cell_type": "markdown",
   "metadata": {},
   "source": [
    "A documentation of the library's API is found [here](https://www.dlitz.net/software/pycrypto/api/current/)\n",
    "\n",
    "Make yourself familar with the library go with the following exercises"
   ]
  },
  {
   "cell_type": "markdown",
   "metadata": {},
   "source": [
    "## Excercise 1: Advanced Encryption Standard <a name=\"aes\"/>\n",
    "\n",
    "Goal of this exercise is to make yourself familar with AES and how to use the different modes of AES, namely ECB,CBC and CTR.\n"
   ]
  },
  {
   "cell_type": "markdown",
   "metadata": {},
   "source": [
    "*Note: you may have to install numpy, matplotlib and PIL for this exercise*"
   ]
  },
  {
   "cell_type": "code",
   "execution_count": null,
   "metadata": {},
   "outputs": [],
   "source": [
    "pip install numpy --user"
   ]
  },
  {
   "cell_type": "code",
   "execution_count": null,
   "metadata": {},
   "outputs": [],
   "source": [
    "pip install matplotlib --user"
   ]
  },
  {
   "cell_type": "markdown",
   "metadata": {},
   "source": [
    "### 1.1 AES-ECB\n",
    "In the following code block, a variable 100x200 *array* is filled with values in the range 0 to 255, and thereby represents an image. You can plot the image by executing the following cell.\n"
   ]
  },
  {
   "cell_type": "code",
   "execution_count": null,
   "metadata": {},
   "outputs": [],
   "source": [
    "import numpy as np\n",
    "\n",
    "array = np.zeros([100, 100], dtype=np.uint8)\n",
    "\n",
    "# Set grey value to black or white depending on x position\n",
    "for x in range(100):\n",
    "    for y in range(100):\n",
    "        if (x % 16) // 8 == (y % 16) // 8:\n",
    "            array[y, x] = 0\n",
    "        else:\n",
    "            array[y, x] = 255"
   ]
  },
  {
   "cell_type": "code",
   "execution_count": null,
   "metadata": {},
   "outputs": [],
   "source": [
    "import matplotlib.pyplot as plt\n",
    "import PIL.Image\n",
    "\n",
    "img = PIL.Image.fromarray(array)\n",
    "im_array = np.asarray(img)\n",
    "plt.imshow(im_array)\n",
    "plt.show()"
   ]
  },
  {
   "cell_type": "markdown",
   "metadata": {},
   "source": [
    "#### Encrypt\n",
    "- Use *AES-ECB* with a key of your choice to encrypt the values stored in *array*. Plot the array again and experience how -- although encrypted -- the image is still readable.\n",
    "- Try it with all three available key sizes (16,24,32 byte) and compare the difference"
   ]
  },
  {
   "cell_type": "code",
   "execution_count": null,
   "metadata": {},
   "outputs": [],
   "source": [
    "#develop your code here"
   ]
  },
  {
   "cell_type": "markdown",
   "metadata": {},
   "source": [
    "- Save the output in a two-dimensional array called *img_enc* to draw the result"
   ]
  },
  {
   "cell_type": "code",
   "execution_count": null,
   "metadata": {},
   "outputs": [],
   "source": [
    "img_enc = np.array(img_enc, dtype=np.uint8)\n",
    "img = PIL.Image.fromarray(img_enc)\n",
    "im_array = np.asarray(img)\n",
    "plt.imshow(im_array)\n",
    "plt.show()"
   ]
  },
  {
   "cell_type": "markdown",
   "metadata": {},
   "source": [
    "#### 1.2 AES-CBC\n",
    "- Now try the same with AES-CBC and experience the difference. Make sure that you choose a random Initialization Vector\n",
    "- Try it with all three available key sizes (16,24,32 byte) and compare the difference"
   ]
  },
  {
   "cell_type": "code",
   "execution_count": null,
   "metadata": {},
   "outputs": [],
   "source": [
    "#develop your code here"
   ]
  },
  {
   "cell_type": "markdown",
   "metadata": {},
   "source": [
    "- Save the output in a two-dimensional array called *img_enc* to draw the result"
   ]
  },
  {
   "cell_type": "code",
   "execution_count": null,
   "metadata": {},
   "outputs": [],
   "source": [
    "img_enc = np.array(img_enc, dtype=np.uint8)\n",
    "img = PIL.Image.fromarray(img_enc)\n",
    "im_array = np.asarray(img)\n",
    "plt.imshow(im_array)\n",
    "plt.show()"
   ]
  },
  {
   "cell_type": "markdown",
   "metadata": {},
   "source": [
    "#### 1.3 AES-CTR\n",
    "The goal of this part is to experience the problem when a counter is used twice in *AES-CTR* mode\n",
    "1. Encrypt the text *Biden is the next president of the US* with AES-CTR and a randomly chosen 16byte key\n",
    "2. Encrypt the text *Trump stays president of the US* with AES-CTR **with the same key**\n",
    "3. Use the same Counter for both encryption\n",
    "4. XOR the resulting ciphertext and compare them with the XOR of the two plaintexts\n"
   ]
  },
  {
   "cell_type": "code",
   "execution_count": null,
   "metadata": {},
   "outputs": [],
   "source": [
    "#develop your code here"
   ]
  },
  {
   "cell_type": "markdown",
   "metadata": {},
   "source": [
    "## Exercise 2: ChaCha20 <a name=\"chacha\"/>\n",
    "Try to implement ChaCha20 by yourself. For correctness use the test vectors given by [RFC7539](https://tools.ietf.org/html/rfc7539)\n",
    "1. [ChaCha20 quarter round](https://tools.ietf.org/html/rfc7539#section-2.1)"
   ]
  },
  {
   "cell_type": "code",
   "execution_count": null,
   "metadata": {},
   "outputs": [],
   "source": [
    "#develop your code here"
   ]
  },
  {
   "cell_type": "markdown",
   "metadata": {},
   "source": [
    "2. [ChaCha20 block function](https://tools.ietf.org/html/rfc7539#section-2.3.2)"
   ]
  },
  {
   "cell_type": "code",
   "execution_count": null,
   "metadata": {},
   "outputs": [],
   "source": [
    "#develop your code here"
   ]
  },
  {
   "cell_type": "markdown",
   "metadata": {},
   "source": [
    "\n",
    "3. [ChaCha20 encryption](https://tools.ietf.org/html/rfc7539#section-2.4.2)"
   ]
  },
  {
   "cell_type": "code",
   "execution_count": null,
   "metadata": {},
   "outputs": [],
   "source": [
    "#develop your code here"
   ]
  }
 ],
 "metadata": {
  "kernelspec": {
   "display_name": "Python 3",
   "language": "python",
   "name": "python3"
  },
  "language_info": {
   "codemirror_mode": {
    "name": "ipython",
    "version": 3
   },
   "file_extension": ".py",
   "mimetype": "text/x-python",
   "name": "python",
   "nbconvert_exporter": "python",
   "pygments_lexer": "ipython3",
   "version": "3.7.7"
  }
 },
 "nbformat": 4,
 "nbformat_minor": 4
}
