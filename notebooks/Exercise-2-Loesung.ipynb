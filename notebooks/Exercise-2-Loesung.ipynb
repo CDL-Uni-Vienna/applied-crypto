{
 "cells": [
  {
   "cell_type": "markdown",
   "metadata": {},
   "source": [
    "# Introduction to Modern Cryptography: Exercise Hash Function"
   ]
  },
  {
   "cell_type": "markdown",
   "metadata": {},
   "source": [
    "## The PyCrypto Libarary <a name='pycrypto'/>\n",
    "\n",
    "Python offers a library called [Cryptography](https://cryptography.io) which includes various cryptographic algorithms, among them AES.\n",
    "\n",
    "<b> If you're using the Docker images, the library is already installed on your image, otherwise you install it using *pip* </b>"
   ]
  },
  {
   "cell_type": "code",
   "execution_count": 1,
   "metadata": {},
   "outputs": [
    {
     "name": "stdout",
     "output_type": "stream",
     "text": [
      "Requirement already satisfied: cryptography in /usr/local/lib/python3.12/site-packages (41.0.4)\n",
      "Requirement already satisfied: cffi>=1.12 in /usr/local/lib/python3.12/site-packages (from cryptography) (1.16.0)\n",
      "Requirement already satisfied: pycparser in /usr/local/lib/python3.12/site-packages (from cffi>=1.12->cryptography) (2.21)\n",
      "Note: you may need to restart the kernel to use updated packages.\n"
     ]
    }
   ],
   "source": [
    "pip install cryptography --user"
   ]
  },
  {
   "cell_type": "markdown",
   "metadata": {},
   "source": [
    "## Excercise 1: Hash Function <a name=\"hash\"/>"
   ]
  },
  {
   "cell_type": "markdown",
   "metadata": {},
   "source": [
    "Make yourself familar with the Hash Module in [Cryptography](https://cryptography.io/en/latest/hazmat/primitives/cryptographic-hashes/) and experience the property of *collision-resistant* with the following hash functions:\n",
    "- [MD5](#ex1:MD5)\n",
    "- [SHA1](#ex1:SHA1)\n",
    "- [SHA256](#ex1:SHA256)\n",
    "  \n",
    "by hashing the following Texts"
   ]
  },
  {
   "cell_type": "code",
   "execution_count": 1,
   "metadata": {},
   "outputs": [],
   "source": [
    "text1 = b'Heute ist ein Sonniger Tag'"
   ]
  },
  {
   "cell_type": "code",
   "execution_count": 3,
   "metadata": {},
   "outputs": [],
   "source": [
    "text2 = b'Heute ist ein Ronniger Tag'"
   ]
  },
  {
   "cell_type": "code",
   "execution_count": 211,
   "metadata": {},
   "outputs": [
    {
     "name": "stdout",
     "output_type": "stream",
     "text": [
      "Compare the to inputs:\n",
      "Text1: 4865757465206973742065696e20536f6e6e6967657220546167\n",
      "Text2: 4865757465206973742065696e20526f6e6e6967657220546167\n",
      "208 of 209 bits are identical\n"
     ]
    }
   ],
   "source": [
    "import binascii\n",
    "test1 = bin(int.from_bytes(text1, \"big\"))\n",
    "test2 = bin(int.from_bytes(text2, \"big\"))\n",
    "\n",
    "c=0\n",
    "for i in range(len(test1)):\n",
    "    if test1[i] == test2[i]:\n",
    "        c=c+1\n",
    "print(f'Compare the to inputs:\\nText1: {text1.hex()}\\nText2: {text2.hex()}')\n",
    "print(f'{c} of {len(test1)} bits are identical')"
   ]
  },
  {
   "cell_type": "markdown",
   "metadata": {},
   "source": [
    "### MD5 <a name=\"ex1:MD5\"/>"
   ]
  },
  {
   "cell_type": "code",
   "execution_count": null,
   "metadata": {},
   "outputs": [],
   "source": [
    "#develop your code here"
   ]
  },
  {
   "cell_type": "code",
   "execution_count": 78,
   "metadata": {},
   "outputs": [
    {
     "name": "stdout",
     "output_type": "stream",
     "text": [
      "10000001100010011001101110111110101100111011011111010101101111110110101101110001001010001100000100011001000110101111011100001110\n",
      "00010101000100101100101101100011111010110100111011010010001011101100000101111000110001100001011001111110110110001001100110101110\n",
      "64 of 128 entries are identical\n"
     ]
    }
   ],
   "source": [
    "from cryptography.hazmat.primitives import hashes\n",
    "h1 = hashes.Hash(hashes.MD5())\n",
    "h1.update(text1)\n",
    "\n",
    "h2 = hashes.Hash(hashes.MD5())\n",
    "h2.update(text2)\n",
    "\n",
    "h1 = h1.finalize().hex()\n",
    "h2 = h2.finalize().hex()\n",
    "\n",
    "h1=bin(int(h1, 16))[2:].zfill(len(h1)*4)\n",
    "h2=bin(int(h2, 16))[2:].zfill(len(h2)*4)\n",
    "\n",
    "c=0\n",
    "for i in range(len(h1)):\n",
    "    if h1[i] == h2[i]:\n",
    "        c=c+1\n",
    "print(f'{h1}\\n{h2}')\n",
    "print(f'{c} of {len(h1)} bits are identical')"
   ]
  },
  {
   "cell_type": "markdown",
   "metadata": {},
   "source": [
    "### SHA1 <a name=\"ex1:SHA1\"/>"
   ]
  },
  {
   "cell_type": "code",
   "execution_count": null,
   "metadata": {},
   "outputs": [],
   "source": [
    "#develop your code here"
   ]
  },
  {
   "cell_type": "code",
   "execution_count": 79,
   "metadata": {},
   "outputs": [
    {
     "name": "stdout",
     "output_type": "stream",
     "text": [
      "1010110010100100001100100000001101000010110010000111100011000001110101010001011101111111111101010010110100101101100110101010011011101000101110011001101010010110\n",
      "1011110001100111011111010011010010101110000100110101001111110000011111101101100110000010111010011111000111101101000000111000011010111011000001100001001011111101\n",
      "77 of 160 entries are identical\n"
     ]
    }
   ],
   "source": [
    "from cryptography.hazmat.primitives import hashes\n",
    "h1 = hashes.Hash(hashes.SHA1())\n",
    "h1.update(text1)\n",
    "\n",
    "h2 = hashes.Hash(hashes.SHA1())\n",
    "h2.update(text2)\n",
    "\n",
    "h1 = h1.finalize().hex()\n",
    "h2 = h2.finalize().hex()\n",
    "\n",
    "h1=bin(int(h1, 16))[2:].zfill(len(h1)*4)\n",
    "h2=bin(int(h2, 16))[2:].zfill(len(h2)*4)\n",
    "\n",
    "c=0\n",
    "for i in range(len(h1)):\n",
    "    if h1[i] == h2[i]:\n",
    "        c=c+1\n",
    "print(f'{h1}\\n{h2}')\n",
    "print(f'{c} of {len(h1)} bits are identical')"
   ]
  },
  {
   "cell_type": "markdown",
   "metadata": {},
   "source": [
    "### SHA256 <a name=\"ex1:SHA256\"/>"
   ]
  },
  {
   "cell_type": "code",
   "execution_count": null,
   "metadata": {},
   "outputs": [],
   "source": [
    "#develop your code here"
   ]
  },
  {
   "cell_type": "code",
   "execution_count": 80,
   "metadata": {},
   "outputs": [
    {
     "name": "stdout",
     "output_type": "stream",
     "text": [
      "0010100110101111010011001100101010000011111011111001001101100101000100001011101100000101111100011100001110101010100001001100010001001111010010100010100100101100110110110111001001010110011011010101111000010010000011001000111110110010001000000100000011011001\n",
      "0010001111000100101110110100100001111001011101111000110111110100101111011010011100111101101001111110011100111010001010100100111101100001111111111010100000001010100101101001010011000101001000010111001100110110101001010011100111110001000100000111000001101111\n",
      "139 of 256 entries are identical\n"
     ]
    }
   ],
   "source": [
    "from cryptography.hazmat.primitives import hashes\n",
    "\n",
    "h1 = hashes.Hash(hashes.SHA256())\n",
    "h1.update(text1)\n",
    "\n",
    "h2 = hashes.Hash(hashes.SHA256())\n",
    "h2.update(text2)\n",
    "\n",
    "h1 = h1.finalize().hex()\n",
    "h2 = h2.finalize().hex()\n",
    "\n",
    "h1=bin(int(h1, 16))[2:].zfill(len(h1)*4)\n",
    "h2=bin(int(h2, 16))[2:].zfill(len(h2)*4)\n",
    "\n",
    "c=0\n",
    "for i in range(len(h1)):\n",
    "    if h1[i] == h2[i]:\n",
    "        c=c+1\n",
    "print(f'{h1}\\n{h2}')\n",
    "print(f'{c} of {len(h1)} bits are identical')"
   ]
  },
  {
   "cell_type": "markdown",
   "metadata": {},
   "source": [
    "## Excercise 2 : HMAC <a name=\"hmac\"/>\n",
    "An HMAC is generated by the following equation:\n",
    "\n",
    "![HMAC](https://wikimedia.org/api/rest_v1/media/math/render/svg/f89190c72a307b34f1e6b53b5f944a7ae81a3958)"
   ]
  },
  {
   "cell_type": "markdown",
   "metadata": {},
   "source": [
    "## (hash) length extension attack\n",
    "A very obvious way of generating an HMAC would be to just generate the HMAC by \n",
    "\n",
    "*HMAC(K,M) = H(K||m)*\n",
    "\n",
    "However, as you learned in the lecture, this holds a *(hash) length extension attack* in Merkle-Darmgard-Construction, as Eve could just intercept the HMAC *mac* and the message *m* and extend the  message by \n",
    "\n",
    "*m' = m || m2* \n",
    "and than generate a new HMAC by calculating\n",
    "\n",
    "*mac' = H(mac || m2)*\n",
    "\n",
    "and sending *m'* and *mac'* to Bob"
   ]
  },
  {
   "cell_type": "markdown",
   "metadata": {},
   "source": [
    "## Exercise 2.1: Simulate the hash length extension attack for SHA-256\n",
    "Alice wants to send the message *m* to Bob and are in possession of a shared key:"
   ]
  },
  {
   "cell_type": "code",
   "execution_count": 133,
   "metadata": {},
   "outputs": [
    {
     "name": "stdout",
     "output_type": "stream",
     "text": [
      "64\n"
     ]
    }
   ],
   "source": [
    "m = b'We meet at the Metro stop Praterstern at Mitnight'\n",
    "key = b'Alice loves Bob'\n",
    "print(len(m+key))"
   ]
  },
  {
   "cell_type": "markdown",
   "metadata": {},
   "source": [
    "Develop a code which generates H(key||m) with SHA-256"
   ]
  },
  {
   "cell_type": "code",
   "execution_count": null,
   "metadata": {},
   "outputs": [],
   "source": [
    "#develop your code here"
   ]
  },
  {
   "cell_type": "code",
   "execution_count": 138,
   "metadata": {},
   "outputs": [
    {
     "name": "stdout",
     "output_type": "stream",
     "text": [
      "8a811caf6ab5a479c28cd9f0a43d394c7214e0fcaf095530f53a9655e5b2b83c\n"
     ]
    }
   ],
   "source": [
    "from cryptography.hazmat.primitives import hashes\n",
    "\n",
    "h = hashes.Hash(hashes.SHA256())\n",
    "\n",
    "h.update(key+m)\n",
    "mac = h.finalize().hex()\n",
    "print(mac)"
   ]
  },
  {
   "cell_type": "markdown",
   "metadata": {},
   "source": [
    "Eve intercepts the message and wants to extend it by *m2*"
   ]
  },
  {
   "cell_type": "code",
   "execution_count": 135,
   "metadata": {},
   "outputs": [],
   "source": [
    "m2 = b' next Wednesday'"
   ]
  },
  {
   "cell_type": "markdown",
   "metadata": {},
   "source": [
    "Perform the *hash length extension attack* and verify Bob that Bob will not be able to expose the attack if he verifies the message *m_new = m || m2* with the preshared *key*"
   ]
  },
  {
   "cell_type": "code",
   "execution_count": 139,
   "metadata": {},
   "outputs": [],
   "source": [
    "m_new = m+m2"
   ]
  },
  {
   "cell_type": "code",
   "execution_count": 141,
   "metadata": {},
   "outputs": [
    {
     "name": "stdout",
     "output_type": "stream",
     "text": [
      "b'7\\n\\xb8\\x1f\\x98Y\\x9cx.\\x87\\xd4[-\\x07__\"\\n\\xf2\\x835*\\xech<p;\\x9d\\x02\\x95n-'\n",
      "b'7\\n\\xb8\\x1f\\x98Y\\x9cx.\\x87\\xd4[-\\x07__\"\\n\\xf2\\x835*\\xech<p;\\x9d\\x02\\x95n-'\n"
     ]
    }
   ],
   "source": [
    "h = hashes.Hash(hashes.SHA256())\n",
    "h.update(key+m)\n",
    "h.update(m2)\n",
    "x2 = h.finalize()\n",
    "print(x2)\n",
    "\n",
    "h2 = hashes.Hash(hashes.SHA256())\n",
    "h2.update(key+m_new)\n",
    "check = h2.finalize()\n",
    "\n",
    "print(check)"
   ]
  },
  {
   "cell_type": "markdown",
   "metadata": {},
   "source": [
    "## Exercise 2.2: Develop HMAC by yourself for SHA-256"
   ]
  },
  {
   "cell_type": "markdown",
   "metadata": {},
   "source": [
    "Develop your own HMAC as defined by  [RFC2104](https://www.ietf.org/rfc/rfc2104.html#section-2):\n",
    "\n",
    "*H(K XOR opad, H(K XOR ipad, text))*\n",
    "\n",
    "- *B* is the block size of the Hash function H\n",
    "- *K* is the key\n",
    "\n",
    "1. append zeros to the end of K to create a B byte string\n",
    "        (e.g., if K is of length 20 bytes and B=64, then K will be\n",
    "         appended with 44 zero bytes 0x00)\n",
    "2. XOR (bitwise exclusive-OR) the B byte string computed in step\n",
    "        (1) with ipad\n",
    "3. append the stream of data 'text' to the B byte string resulting\n",
    "        from step (2)\n",
    "4. apply H to the stream generated in step (3)\n",
    "5. XOR (bitwise exclusive-OR) the B byte string computed in\n",
    "        step (1) with opad\n",
    "6. append the H result from step (4) to the B byte string\n",
    "        resulting from step (5)\n",
    "7. apply H to the stream generated in step (6) and output\n",
    "        the result\n",
    "\n",
    "Use SHA256 as a hash function and compare your result with the HMAC function provided by *pycrypto*\n",
    "\n",
    "Some note:\n",
    "- wikipedia state the ipad to be '0x35'x block_size while RFC2104 uses '0x36'\n",
    "- the SHA256 object allows you to determine the blocksize by *SHA256.block_size*"
   ]
  },
  {
   "cell_type": "code",
   "execution_count": 142,
   "metadata": {},
   "outputs": [],
   "source": [
    "m = b'Lets meet at Midnight'\n",
    "key = b'Alice loves Bob!Alice loves Bob!Alice loves Bob!Alice loves Bob!Alice loves Bob!'"
   ]
  },
  {
   "cell_type": "code",
   "execution_count": 195,
   "metadata": {},
   "outputs": [],
   "source": [
    "key = bytes.fromhex('0b0b0b0b0b0b0b0b0b0b0b0b0b0b0b0b')\n",
    "m = b\"Hi There\""
   ]
  },
  {
   "cell_type": "markdown",
   "metadata": {},
   "source": [
    "Compare the output with the HMAC function provided by *pycrypto*"
   ]
  },
  {
   "cell_type": "code",
   "execution_count": 203,
   "metadata": {},
   "outputs": [
    {
     "data": {
      "text/plain": [
       "'492ce020fe2534a5789dc3848806c78f4f6711397f08e7e7a12ca5a4483c8aa6'"
      ]
     },
     "execution_count": 203,
     "metadata": {},
     "output_type": "execute_result"
    }
   ],
   "source": [
    "from cryptography.hazmat.primitives import hmac, hashes\n",
    "hmac = hmac.HMAC(key, hashes.SHA256())\n",
    "hmac.update(m)\n",
    "sig_o = hmac.finalize()\n",
    "sig_o.hex()"
   ]
  },
  {
   "cell_type": "code",
   "execution_count": 202,
   "metadata": {},
   "outputs": [
    {
     "data": {
      "text/plain": [
       "'492ce020fe2534a5789dc3848806c78f4f6711397f08e7e7a12ca5a4483c8aa6'"
      ]
     },
     "execution_count": 202,
     "metadata": {},
     "output_type": "execute_result"
    }
   ],
   "source": [
    "from cryptography.hazmat.primitives import hashes\n",
    "hash = hashes.SHA256\n",
    "\n",
    "def H(text):\n",
    "    #h1 = SHA256.new(ipad_key+m)\n",
    "    #h1.update(ipad_key+m)\n",
    "    h = hashes.Hash(hash())\n",
    "    h.update(text)\n",
    "    return h.finalize()\n",
    "\n",
    "opad = bytes.fromhex('5c'*hash.block_size)\n",
    "ipad = bytes.fromhex('36'*hash.block_size)\n",
    "keyBytes=key\n",
    "if (len(key)>hash.block_size):\n",
    "    keyBytes = H(key)\n",
    "    #keyBytes=SHA256.new(key).digest()\n",
    "elif (len(key)<hash.block_size):\n",
    "    keyBytes=keyBytes+bytes.fromhex('00'*(hash.block_size-len(key)))\n",
    "\n",
    "ipad_key=bytes(a ^ b for (a, b) in zip(keyBytes,ipad))\n",
    "opad_key=bytes(a ^ b for (a, b) in zip(keyBytes,opad))\n",
    "\n",
    "c1 = H(ipad_key+m)\n",
    "sig = H(opad_key+c1)\n",
    "sig.hex()"
   ]
  },
  {
   "cell_type": "code",
   "execution_count": 204,
   "metadata": {},
   "outputs": [],
   "source": [
    "from cryptography.hazmat.primitives import hmac, hashes\n",
    "hmac = hmac.HMAC(key, hashes.SHA256())\n",
    "hmac.update(m)\n",
    "hmac.verify(sig)"
   ]
  },
  {
   "cell_type": "markdown",
   "metadata": {},
   "source": [
    "## Exercise 3: OpenSSL <a name=\"openssl\"/>\n",
    "\n",
    "For a more practical usage of Cryptography, lets try out its usage with [OpenSSL](https://en.wikipedia.org/wiki/OpenSSL)\n",
    "\n",
    "OpenSSL is known for its broad usage in the internet, most famously for securing web-traffic e.g., for HTTP/s.\n",
    "However, OpenSSL offers many more functionalities and is actually a software library that contains implementation of various cryptographic protocols and functionalities and is available for various Unix and Windows operating systems. Additionally, it is open source, carefully reviewed by security experts and therefore widely accepted as secure. "
   ]
  },
  {
   "cell_type": "markdown",
   "metadata": {},
   "source": [
    "For end-users, openssl provides a [command line interface](https://wiki.openssl.org/index.php/Command_Line_Utilities), so that you can directly interact with the library.\n",
    "\n",
    "In Juypter Notebooks, you can directly run such command by starting the cells with `%%bash`, e.g. the following command \n",
    "1. generates a file `example.txt` with some random conent\n",
    "2. outputs the contents of the file `example.txt`"
   ]
  },
  {
   "cell_type": "code",
   "execution_count": null,
   "metadata": {},
   "outputs": [],
   "source": [
    "%%bash\n",
    "openssl rand -base64 365 > example.txt\n",
    "cat example.txt"
   ]
  },
  {
   "cell_type": "markdown",
   "metadata": {},
   "source": [
    "Create the ```SHA256``` hash of example.txt"
   ]
  },
  {
   "cell_type": "code",
   "execution_count": 1,
   "metadata": {},
   "outputs": [
    {
     "name": "stdout",
     "output_type": "stream",
     "text": [
      "SHA2-256(example.txt)= 99c352ac3586af24fa7a39060735de6c633221e91b51900d490cd8e7ecf300ca\n"
     ]
    }
   ],
   "source": [
    "%%bash\n",
    "openssl sha256 example.txt"
   ]
  },
  {
   "cell_type": "markdown",
   "metadata": {},
   "source": [
    "Create an ```HMAC``` using the ```SHA3-512``` algorithm for ```example.txt``` using the password ```HeuteIst1schoenerTag!```"
   ]
  },
  {
   "cell_type": "code",
   "execution_count": 12,
   "metadata": {},
   "outputs": [
    {
     "name": "stdout",
     "output_type": "stream",
     "text": [
      "HMAC-SHA3-512(example.txt)= f9623844747197b03accec0945b0e893f4f0223694cffc443dbaf8ff0dc49099182b887559990ef63db2d840356089f9fec53443e1d4c236655e2cc75637b2a2\n"
     ]
    }
   ],
   "source": [
    "%%bash\n",
    "openssl sha3-512 -mac HMAC -macopt key:\"HeuteIst1schoenerTag!\" example.txt"
   ]
  }
 ],
 "metadata": {
  "kernelspec": {
   "display_name": "Python 3 (ipykernel)",
   "language": "python",
   "name": "python3"
  },
  "language_info": {
   "codemirror_mode": {
    "name": "ipython",
    "version": 3
   },
   "file_extension": ".py",
   "mimetype": "text/x-python",
   "name": "python",
   "nbconvert_exporter": "python",
   "pygments_lexer": "ipython3",
   "version": "3.12.0"
  }
 },
 "nbformat": 4,
 "nbformat_minor": 4
}
