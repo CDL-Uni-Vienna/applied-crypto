{
 "cells": [
  {
   "cell_type": "markdown",
   "metadata": {},
   "source": [
    "# Introduction to Modern Cryptography: Exercise Asymmetric Cryptography"
   ]
  },
  {
   "cell_type": "markdown",
   "metadata": {},
   "source": [
    "## Table of Contents\n",
    "1. [Modular Arithmetic](#ex-1)\n",
    "  1. [Modular Exponentiation](#ex-1-1)\n",
    "  1. [Extended Euclidean Algorithm](#ex-1-2)  \n",
    "2. [Diffie-Hellman & RSA](#ex-2)\n",
    "  1. [Diffie-Hellmann](#ex-2-1)\n",
    "  2. [RSA](#ex-2-2)\n",
    "3. [OpenSSL](#ex-3)"
   ]
  },
  {
   "cell_type": "markdown",
   "metadata": {},
   "source": [
    "## Excercise 1: Modular Arithmetics <a name=\"ex-1\"/>"
   ]
  },
  {
   "cell_type": "markdown",
   "metadata": {},
   "source": [
    "### 1.1: Modular Exponentiation <a name=\"ex-1-1\"/>\n",
    "Write a function to calculate **x^k mod m** by using modular exponentiation **repeated squaring**"
   ]
  },
  {
   "cell_type": "code",
   "execution_count": null,
   "metadata": {},
   "outputs": [],
   "source": [
    "def mod_exp(x,k,m):\n",
    "    # put your code here\n",
    "    return 0"
   ]
  },
  {
   "cell_type": "code",
   "execution_count": null,
   "metadata": {},
   "outputs": [],
   "source": [
    "def mod_exp(x,k,m):\n",
    "    r=1\n",
    "    while k:\n",
    "        r = (r * x**(k&1)) % m\n",
    "        k >>= 1\n",
    "        x = (x * x) % m\n",
    "    return r"
   ]
  },
  {
   "cell_type": "markdown",
   "metadata": {},
   "source": [
    "Test your fucntion with \n",
    "- `mod_exp(5,29,31)` = 25\n",
    "- `mod_exp(358,54,863)` = 807"
   ]
  },
  {
   "cell_type": "code",
   "execution_count": null,
   "metadata": {},
   "outputs": [],
   "source": [
    "#test\n",
    "print(mod_exp(5,29,31))\n",
    "print(mod_exp(358,54,863))"
   ]
  },
  {
   "cell_type": "markdown",
   "metadata": {},
   "source": [
    "## 1.2. Extended Euclidean Algorithm (EEA)<a name=\"ex-1-2\"/>\n",
    "\n",
    "The exended Euclidean algorithm is used to find the solution for *Bezout's Equation*:\n",
    "`ax + by = gcd(x, y) `\n",
    "\n",
    "*The internet is full of example codes; if you use one of those, make sure to understand how it works!*\n",
    "\n",
    "The output of your function should be `gcd,a,b = eea(x,y)`"
   ]
  },
  {
   "cell_type": "code",
   "execution_count": null,
   "metadata": {},
   "outputs": [],
   "source": [
    "def eea(x, y):\n",
    "    #put your code here\n",
    "    \n",
    "    return gcd, a, b"
   ]
  },
  {
   "cell_type": "code",
   "execution_count": null,
   "metadata": {},
   "outputs": [],
   "source": [
    "def eea(x, y):\n",
    "    if x == 0 :   \n",
    "        return y, 0, 1\n",
    "             \n",
    "    gcd, si, ti = eea(y%x, x)  \n",
    "     \n",
    "    a = ti - (y//x) * si  \n",
    "    b = si\n",
    "    \n",
    "    return gcd, a, b"
   ]
  },
  {
   "cell_type": "markdown",
   "metadata": {},
   "source": [
    "Test with the values from the lecture `gcd(240,46) = 2`"
   ]
  },
  {
   "cell_type": "code",
   "execution_count": null,
   "metadata": {},
   "outputs": [],
   "source": [
    "x, y = 240,46\n",
    "g, a, b = eea(x, y)  \n",
    "print(\"gcd(\", x , \",\" , y, \") = \", g)  "
   ]
  },
  {
   "cell_type": "markdown",
   "metadata": {},
   "source": [
    "#### Multiplicative Inverse\n",
    "Write a function to calculate the mulitplicative inverse in **Z^*_p** by using the _extended Euclidean algorithm_ for some number **x<p**. (See Lecture 04, Slide 43)\n",
    "\n",
    "The multiplicative inverse `a` of `x` in `Z^*_p` is `a mod p` where `a` is the result of the extended Euclidean algorithm `(gcd,a,b) <- eea(x,p)` if and only if `gcd == 1`"
   ]
  },
  {
   "cell_type": "code",
   "execution_count": null,
   "metadata": {},
   "outputs": [],
   "source": [
    "def modinv(x, p):\n",
    "    #put your code here"
   ]
  },
  {
   "cell_type": "code",
   "execution_count": null,
   "metadata": {},
   "outputs": [],
   "source": [
    "def modinv(x, p):\n",
    "    gcd, a, b = eea(x, p)\n",
    "    if gcd != 1:\n",
    "        raise Exception('modular inverse does not exist')\n",
    "    return a % p"
   ]
  },
  {
   "cell_type": "markdown",
   "metadata": {},
   "source": [
    "Test with the example from the lecture, `modinv(1061,1071) = 107`"
   ]
  },
  {
   "cell_type": "code",
   "execution_count": null,
   "metadata": {},
   "outputs": [],
   "source": [
    "modinv(1061,1071)"
   ]
  },
  {
   "cell_type": "markdown",
   "metadata": {},
   "source": [
    "## 1.3. Miller-Rabin test and FindPrime <a name=\"ex-1-3\"/>\n",
    "\n",
    "Try to implement the <b>Miller-Rabin test</b> to <b>find a (safe) prime</b> of length `n` bit with error probability `k`.\n",
    "\n",
    "- You find the description of the algorithm for the <b>Miller-Rabin Test</b> in the Appendix of Lecture 04 and 05\n",
    "- You find the description of the algorithm to <b>Find Uniformly Random Primes</b> in the Appendix of Lecture 04 and 05\n",
    "\n",
    "<b> You also find pseudo-code on [wikipedia](https://en.wikipedia.org/wiki/Miller%E2%80%93Rabin_primality_test)\n",
    "\n",
    "*Note, that the pute Miller-Rabin test will take too long for large primes on your computer. For simplicity, you can use ```a in [2, 3, 5, 7, 11, 13, 17, 19, 23, 29, 31, 37, 41]``` instead of random ```a``` for primes > 10 bit*\n",
    "\n",
    "Check your results with e.g. [wolframalpha](https://www.wolframalpha.com/input?i=isprime%287%29) `isprime(n)`"
   ]
  },
  {
   "cell_type": "code",
   "execution_count": null,
   "metadata": {},
   "outputs": [],
   "source": [
    "import random\n",
    "import os"
   ]
  },
  {
   "cell_type": "code",
   "execution_count": null,
   "metadata": {},
   "outputs": [],
   "source": [
    "# x = the prime to test\n",
    "# n = bits of prime\n",
    "# k = error rate ^-1\n",
    "def millertest(x, n, k):\n",
    "    #put your code here\n",
    "    return True"
   ]
  },
  {
   "cell_type": "code",
   "execution_count": null,
   "metadata": {},
   "outputs": [],
   "source": [
    "# n = bits of prime\n",
    "# k = error rate ^-1\n",
    "def findPrime(n,k):\n",
    "    #put your code here\n",
    "    return 2"
   ]
  },
  {
   "cell_type": "code",
   "execution_count": 203,
   "metadata": {},
   "outputs": [],
   "source": [
    "def millertest(x, n, k):\n",
    "    if x & 1 == 0: #if n is odd, don't bother\n",
    "        return False  \n",
    "    m = x - 1; t = 0\n",
    "    while m % 2 == 0:\n",
    "        m//=2\n",
    "        t+=1\n",
    "    # fill Z_x^*\n",
    "    z_x = []\n",
    "    for i in range(1,x):\n",
    "        if eea(i,x)[0] == 1:\n",
    "            z_x.append(i)\n",
    "\n",
    "    a_array = []\n",
    "    if len(z_x) < k//2:\n",
    "        a_array = z_x\n",
    "    else:\n",
    "        for i in range(k//2):    \n",
    "            a_array.append(z_x[random.randrange(0,len(z_x))])\n",
    "    for a in a_array: #    for a in [2, 3, 5, 7, 11, 13, 17, 19, 23, 29, 31, 37, 41]:\n",
    "        y_t = mod_exp(a,m,x)\n",
    "        #test = True if y == 1 else False\n",
    "        for s in range(t):\n",
    "            y = y_t**2 % x\n",
    "            if y == 1 and y_t != 1 and y_t != x-1:\n",
    "                return False\n",
    "            y_t = y -1\n",
    "        if y != 1:\n",
    "            return False\n",
    "    return True\n",
    "\n",
    "def findPrime(n,k):\n",
    "    while True:\n",
    "        #p = int.from_bytes(os.urandom(n//8+1)[:n])\n",
    "        p = random.randrange(2,2**n-1)\n",
    "        if millertest(p,n,k):\n",
    "            return p"
   ]
  },
  {
   "cell_type": "markdown",
   "metadata": {},
   "source": [
    "Test and try to find 10 primes of size 10 bit and Error 10^(-4)"
   ]
  },
  {
   "cell_type": "code",
   "execution_count": 204,
   "metadata": {
    "scrolled": true
   },
   "outputs": [
    {
     "name": "stdout",
     "output_type": "stream",
     "text": [
      "907\n",
      "131\n",
      "919\n",
      "139\n",
      "719\n",
      "7\n",
      "839\n",
      "163\n",
      "367\n",
      "11\n"
     ]
    }
   ],
   "source": [
    "for i in range(10):\n",
    "    print(findPrime(10, 10**4))"
   ]
  },
  {
   "cell_type": "code",
   "execution_count": null,
   "metadata": {},
   "outputs": [],
   "source": [
    "2**8 // 8"
   ]
  },
  {
   "cell_type": "markdown",
   "metadata": {
    "jp-MarkdownHeadingCollapsed": true
   },
   "source": [
    "## Exercise 2: Diffie-Hellmann and RSA <a name=\"ex-2\"/>\n",
    "Use the functions from Exercise 1 to perform RSA en-/decryption and a Diffie-Hellman Key Exchange"
   ]
  },
  {
   "cell_type": "markdown",
   "metadata": {},
   "source": [
    "## 2.1 Diffie-Hellmann<a name=\"ex-2-1\"/>"
   ]
  },
  {
   "cell_type": "markdown",
   "metadata": {},
   "source": [
    "For the Diffie-Hellman Group use the cyclic group `Zq` which is defined by the by the *safe prime* `q=2p+1`, which is calculated by using the Sophie Germains Prime `p=431`.\n",
    "\n",
    "Find a generator `g` for the group `Zq` "
   ]
  },
  {
   "cell_type": "code",
   "execution_count": null,
   "metadata": {},
   "outputs": [],
   "source": [
    "def findSophiesGenerator(p):\n",
    "#put your code to calclate q and find a generator g here (or calculate it on a piece of paper)"
   ]
  },
  {
   "cell_type": "code",
   "execution_count": null,
   "metadata": {},
   "outputs": [],
   "source": [
    "import random\n",
    "def findSophiesGenerator(p):\n",
    "    q=2*p+1\n",
    "    while True:\n",
    "        g = random.randint(2,q)\n",
    "        if mod_exp(g,2,q) != 1 and mod_exp(g,p,q) != 1:\n",
    "            return g,q"
   ]
  },
  {
   "cell_type": "code",
   "execution_count": null,
   "metadata": {},
   "outputs": [],
   "source": [
    "g,q = findSophiesGenerator(431)\n",
    "#for i in range(1,q+1):\n",
    "#    print(g,'^',i,'mod', q, ' = ',mod_exp(g,i,q))"
   ]
  },
  {
   "cell_type": "markdown",
   "metadata": {},
   "source": [
    "Now perform the calculation of a Diffie-Hellmann key exchange, where Alice and Bob randomly choose `1 < a,b < q-1`.\n",
    "You're not expected to actually send any information over a communication channel, just perform the calculations.\n",
    "\n",
    "Hint: Use the `mod_exp` function from Exercise 1"
   ]
  },
  {
   "cell_type": "code",
   "execution_count": null,
   "metadata": {},
   "outputs": [],
   "source": [
    "import random\n",
    "\n",
    "a = #put your code here\n",
    "print('Alice chooses',a)\n",
    "\n",
    "b = #put your code here\n",
    "print('Bob chooses',b)\n",
    "\n",
    "ga = #put your code here\n",
    "print('Alice sends',ga)\n",
    "gb = #put your code here\n",
    "print('Bob sends',gb)\n",
    "\n",
    "KA = #put your code here\n",
    "print('Alice calculates', KA)\n",
    "KB = #put your code here\n",
    "print('Bob calculates', KB)\n"
   ]
  },
  {
   "cell_type": "code",
   "execution_count": null,
   "metadata": {},
   "outputs": [],
   "source": [
    "import random\n",
    "#put your code here\n",
    "a = random.randint(2,q-1)\n",
    "print('Alice chooses',a)\n",
    "\n",
    "b = random.randint(2,q-1)\n",
    "print('Bob chooses',b)\n",
    "\n",
    "ga = mod_exp(g,a,q)\n",
    "print('Alice sends',ga)\n",
    "gb = mod_exp(g,b,q)\n",
    "print('Bob sends',gb)\n",
    "\n",
    "KA = mod_exp(gb,a,q)\n",
    "print('Alice calculates', KA)\n",
    "KB = mod_exp(ga,b,q)\n",
    "print('Bob calculates', KB)\n"
   ]
  },
  {
   "cell_type": "markdown",
   "metadata": {},
   "source": [
    "## 2.2 RSA <a name=\"ex-2-2\"/>\n",
    "With the functionalities of the above exercises, it is now straightfoward to develop your very own RSA"
   ]
  },
  {
   "cell_type": "markdown",
   "metadata": {},
   "source": [
    "### 2.2.1 RSA Key Generation"
   ]
  },
  {
   "cell_type": "markdown",
   "metadata": {},
   "source": [
    "Choose two primes `p` and `q`. Again, you can use *safe primes* (from Sophie Germains primes). Choose the encryption exponent `e=65537` and calculate the private key `d`.\n",
    "\n",
    "You can validate your calculations with the following website:\n",
    "[https://www.cs.drexel.edu/~jpopyack/IntroCS/HW/RSAWorksheet.html](https://www.cs.drexel.edu/~jpopyack/IntroCS/HW/RSAWorksheet.html)"
   ]
  },
  {
   "cell_type": "code",
   "execution_count": null,
   "metadata": {},
   "outputs": [],
   "source": [
    "def RSAKeyPair(p,q,e):\n",
    "    d = 0\n",
    "    N=0\n",
    "    # put your code here\n",
    "    return e,d,N"
   ]
  },
  {
   "cell_type": "code",
   "execution_count": null,
   "metadata": {},
   "outputs": [],
   "source": [
    "def RSAKeyPair(p,q,e):\n",
    "    N = p*q\n",
    "    phiN = (p-1)*(q-1)\n",
    "    d= modinv(e,phiN)\n",
    "    return e,d,N"
   ]
  },
  {
   "cell_type": "code",
   "execution_count": null,
   "metadata": {},
   "outputs": [],
   "source": [
    "p = findPrime(32,10**2)#put your first prime here\n",
    "q = findPrime(32,10**2)#put your second prime here\n",
    "e = findPrime(32,10**2)\n",
    "RSAKeyPair(p,q,e)"
   ]
  },
  {
   "cell_type": "markdown",
   "metadata": {},
   "source": [
    "### 2.2.2 RSA En-/Decryption (Lecture 06, Slide 35)"
   ]
  },
  {
   "cell_type": "markdown",
   "metadata": {},
   "source": [
    "Test your keys by en- and decrypting the message `m='Hy' = 72121` in ASCII"
   ]
  },
  {
   "cell_type": "code",
   "execution_count": null,
   "metadata": {},
   "outputs": [],
   "source": [
    "m = 72121\n",
    "#put your code here"
   ]
  },
  {
   "cell_type": "code",
   "execution_count": null,
   "metadata": {},
   "outputs": [],
   "source": [
    "m = 72121\n",
    "#put your code here\n",
    "\n",
    "e,d,N = RSAKeyPair(863,887,65537)\n",
    "enc = mod_exp(m,e,N)\n",
    "dec = mod_exp(enc,d,N)\n",
    "print(enc)\n",
    "print(dec)"
   ]
  },
  {
   "cell_type": "markdown",
   "metadata": {},
   "source": [
    "## Exercise 3: openssl (optional)<a name=\"ex-3\"/>\n",
    "\n",
    "If you're interested in some more practical usage of RSA, you can try out its usage with [OpenSSL](https://en.wikipedia.org/wiki/OpenSSL)\n",
    "\n",
    "OpenSSL is known for its broad usage in the internet, most famously for securing web-traffic e.g., for HTTP/s.\n",
    "However, OpenSSL offers many more functionalities and is actually a software library that contains implementation of various cryptographic protocols and functionalities and is available for various Unix and Windows operating systems. Additionally, it is open source, carefully reviewed by security experts and therefore widely accepted as secure. \n",
    "\n",
    "For this exercise it is of interest, that it provides an RSA module, for generating rsa keys and allows en- and decrypting files."
   ]
  },
  {
   "cell_type": "markdown",
   "metadata": {},
   "source": [
    "For end-users, openssl provides a [command line interface](https://wiki.openssl.org/index.php/Command_Line_Utilities), so that you can directly interact with the library.\n",
    "\n",
    "In Juypter Notebooks, you can directly run such command by starting the cells with `%%bash`, e.g. the following command \n",
    "1. generates a file `example.txt` with the content `Hello World`\n",
    "2. outputs the contents of the file `example.txt`"
   ]
  },
  {
   "cell_type": "code",
   "execution_count": null,
   "metadata": {},
   "outputs": [],
   "source": [
    "%%bash\n",
    "echo \"Hallo Welt\" > example.txt\n",
    "cat example.txt"
   ]
  },
  {
   "cell_type": "markdown",
   "metadata": {},
   "source": [
    "Generate an RSA private key of 2048 bit with openssl and output it in a file called `private-key.pem`"
   ]
  },
  {
   "cell_type": "code",
   "execution_count": 199,
   "metadata": {},
   "outputs": [],
   "source": [
    "%%bash\n",
    "# Put your Code here"
   ]
  },
  {
   "cell_type": "code",
   "execution_count": null,
   "metadata": {},
   "outputs": [],
   "source": [
    "%%bash\n",
    "openssl genpkey -algorithm RSA -pkeyopt rsa_keygen_bits:2048 -out private-key.pem\n",
    "openssl pkey -in private-key.pem -text"
   ]
  },
  {
   "cell_type": "markdown",
   "metadata": {},
   "source": [
    "Generate an RSA public for the just created private key and output it as `public-key.pem`"
   ]
  },
  {
   "cell_type": "code",
   "execution_count": null,
   "metadata": {},
   "outputs": [],
   "source": [
    "%%bash\n",
    "# Put your Code here"
   ]
  },
  {
   "cell_type": "code",
   "execution_count": null,
   "metadata": {},
   "outputs": [],
   "source": [
    "%%bash\n",
    "openssl pkey -in private-key.pem -out public-key.pem -pubout\n",
    "openssl pkey -in public-key.pem -pubin -text"
   ]
  },
  {
   "cell_type": "markdown",
   "metadata": {},
   "source": [
    "Encrypt the file `example.txt` with the public key store it as `example.enc`"
   ]
  },
  {
   "cell_type": "code",
   "execution_count": null,
   "metadata": {},
   "outputs": [],
   "source": [
    "%%bash\n",
    "# Put your Code here\n",
    "cat example.enc"
   ]
  },
  {
   "cell_type": "code",
   "execution_count": null,
   "metadata": {},
   "outputs": [],
   "source": [
    "%%bash\n",
    "openssl pkeyutl -encrypt -pubin -inkey public-key.pem -in example.txt -out example.enc\n",
    "cat example.enc"
   ]
  },
  {
   "cell_type": "markdown",
   "metadata": {},
   "source": [
    "Now decrypt it again with the private key"
   ]
  },
  {
   "cell_type": "code",
   "execution_count": null,
   "metadata": {},
   "outputs": [],
   "source": [
    "%%bash\n",
    "# Put your Code here"
   ]
  },
  {
   "cell_type": "code",
   "execution_count": null,
   "metadata": {},
   "outputs": [],
   "source": [
    "%%bash\n",
    "openssl pkeyutl -decrypt -inkey private-key.pem -in example.enc"
   ]
  }
 ],
 "metadata": {
  "kernelspec": {
   "display_name": "Python 3 (ipykernel)",
   "language": "python",
   "name": "python3"
  },
  "language_info": {
   "codemirror_mode": {
    "name": "ipython",
    "version": 3
   },
   "file_extension": ".py",
   "mimetype": "text/x-python",
   "name": "python",
   "nbconvert_exporter": "python",
   "pygments_lexer": "ipython3",
   "version": "3.12.0"
  }
 },
 "nbformat": 4,
 "nbformat_minor": 4
}
