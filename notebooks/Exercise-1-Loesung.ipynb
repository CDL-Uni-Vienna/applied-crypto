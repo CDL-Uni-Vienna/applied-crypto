{
 "cells": [
  {
   "cell_type": "markdown",
   "metadata": {},
   "source": [
    "## Table of Contents\n",
    "1. [The PyCrypto Library](#pycrypto)\n",
    "2. [Exercise 1. Advanced Encryption Standard](#aes)\n",
    "  1. [AES-ECB](#1.1-AES-ECB)\n",
    "  2. [AES-ECB](#1.1-AES-CBC)\n",
    "  2. [AES-ECB](#1.2-AES-CTR)\n",
    "3. [Exercise 2: ChaCha20](#chacha)"
   ]
  },
  {
   "cell_type": "markdown",
   "metadata": {},
   "source": [
    "## The PyCrypto Libarary <a name='pycrypto'/>\n",
    "\n",
    "Python offers a library called [Cryptography](https://cryptography.io) which includes various cryptographic algorithms, among them AES.\n",
    "\n",
    "<b> If you're using the Docker images, the library is already installed on your image, otherwise you install it using *pip* </b>"
   ]
  },
  {
   "cell_type": "code",
   "execution_count": null,
   "metadata": {},
   "outputs": [],
   "source": [
    "pip install pycrypto --user"
   ]
  },
  {
   "cell_type": "markdown",
   "metadata": {},
   "source": [
    "A documentation of the library's API is found [here](https://cryptography.io/en/latest/hazmat/primitives/))\n",
    "\n",
    "Make yourself familar with the library go with the following exercises"
   ]
  },
  {
   "cell_type": "markdown",
   "metadata": {},
   "source": [
    "## Excercise 1: Advanced Encryption Standard <a name=\"aes\"/>\n",
    "\n",
    "Goal of this exercise is to make yourself familar with AES and how to use the different modes of AES, namely ECB,CBC and CTR.\n"
   ]
  },
  {
   "cell_type": "markdown",
   "metadata": {},
   "source": [
    "### 1.1 AES-ECB\n",
    "In the following code block, a variable 100x200 *array* is filled with values in the range 0 to 255, and thereby represents an image. You can plot the image by executing the following cell.\n",
    "\n",
    "*Note: you may have to install numpy, matplotlib for this exercise*"
   ]
  },
  {
   "cell_type": "code",
   "execution_count": null,
   "metadata": {},
   "outputs": [],
   "source": [
    "pip install numpy matplotlib --user"
   ]
  },
  {
   "cell_type": "code",
   "execution_count": null,
   "metadata": {},
   "outputs": [],
   "source": [
    "import numpy as np\n",
    "\n",
    "array = np.zeros([128, 128], dtype=np.uint8)\n",
    "\n",
    "# Set grey value to black or white depending on x position\n",
    "for x in range(128):\n",
    "    for y in range(128):\n",
    "        if (x % 16) // 8 == (y % 16) // 8:\n",
    "            array[y, x] = 0\n",
    "        else:\n",
    "            array[y, x] = 255"
   ]
  },
  {
   "cell_type": "code",
   "execution_count": null,
   "metadata": {},
   "outputs": [],
   "source": [
    "import matplotlib.pyplot as plt\n",
    "import PIL.Image\n",
    "\n",
    "img = PIL.Image.fromarray(array)\n",
    "im_array = np.asarray(img)\n",
    "plt.imshow(im_array)\n",
    "plt.show()"
   ]
  },
  {
   "cell_type": "markdown",
   "metadata": {},
   "source": [
    "#### Encrypt\n",
    "- Use *AES-ECB* with a key of your choice to encrypt the values stored in *array*. Plot the array again and experience how -- although encrypted -- the image is still readable.\n",
    "- Try it with all three available key sizes (16,24,32 byte) and compare the difference"
   ]
  },
  {
   "cell_type": "code",
   "execution_count": null,
   "metadata": {},
   "outputs": [],
   "source": [
    "from cryptography.hazmat.primitives.ciphers import Cipher, algorithms, modes\n",
    "\n",
    "key = b'Sixteen byte key'\n",
    "# iv = Random.new().read(AES.block_size)\n",
    "#cipher = AES.new(key, AES.MODE_ECB)\n",
    "cipher = Cipher(algorithms.AES(key),modes.ECB()).encryptor()\n"
   ]
  },
  {
   "cell_type": "code",
   "execution_count": null,
   "metadata": {},
   "outputs": [],
   "source": [
    "from cryptography.hazmat.primitives.ciphers import Cipher, algorithms, modes\n",
    "\n",
    "key = b'Sixteen byte key'\n",
    "# iv = Random.new().read(AES.block_size)\n",
    "#cipher = AES.new(key, AES.MODE_ECB)\n",
    "cipher = Cipher(algorithms.AES(key),modes.ECB()).encryptor()\n",
    "enc = cipher.update(bytes(array))\n",
    "#encrypt(bytes(array))\n",
    "img_enc=[]\n",
    "for i in range(100):\n",
    "    img_enc.append(list(enc)[i*100:(i+1)*100])\n"
   ]
  },
  {
   "cell_type": "code",
   "execution_count": null,
   "metadata": {},
   "outputs": [],
   "source": [
    "img_enc = np.array(img_enc, dtype=np.uint8)\n",
    "img = PIL.Image.fromarray(img_enc)\n",
    "im_array = np.asarray(img)\n",
    "plt.imshow(im_array)\n",
    "plt.show()"
   ]
  },
  {
   "cell_type": "markdown",
   "metadata": {},
   "source": [
    "#### 1.2 AES-CBC\n",
    "- Now try the same with AES-CBC and experience the difference. Make sure that you choose a random Initialization Vector\n",
    "- Try it with all three available key sizes (16,24,32 byte) and compare the difference"
   ]
  },
  {
   "cell_type": "code",
   "execution_count": null,
   "metadata": {},
   "outputs": [],
   "source": [
    "from cryptography.hazmat.primitives.ciphers import Cipher, algorithms, modes\n",
    "import os\n",
    "\n",
    "key = b'Sixteen byte key'\n",
    "iv = os.urandom(len(key))\n",
    "#cipher = AES.new(key, AES.MODE_ECB)\n",
    "cipher = Cipher(algorithms.AES(key),modes.CBC(iv)).encryptor()\n",
    "\n",
    "enc = cipher.update(bytes(array))\n",
    "img_enc=[]\n",
    "for i in range(100):\n",
    "    img_enc.append(list(enc)[i*100:(i+1)*100])\n",
    "img_enc = np.array(img_enc, dtype=np.uint8)"
   ]
  },
  {
   "cell_type": "code",
   "execution_count": null,
   "metadata": {},
   "outputs": [],
   "source": [
    "img = PIL.Image.fromarray(img_enc)\n",
    "im_array = np.asarray(img)\n",
    "plt.imshow(im_array)\n",
    "plt.show()"
   ]
  },
  {
   "cell_type": "markdown",
   "metadata": {},
   "source": [
    "#### 1.3 AES-CTR\n",
    "The goal of this part is to experience the problem when a counter is used twice in *AES-CTR* mode\n",
    "1. Encrypt the text *Biden is the next president of the US* with AES-CTR and a randomly chosen 16byte key\n",
    "2. Encrypt the text *Trump stays president of the US* with AES-CTR **with the same key**\n",
    "3. Use the same Counter for both encryption\n",
    "4. XOR the resulting ciphertext and compare them with the XOR of the two plaintexts\n"
   ]
  },
  {
   "cell_type": "code",
   "execution_count": null,
   "metadata": {},
   "outputs": [],
   "source": [
    "from cryptography.hazmat.primitives.ciphers import Cipher, algorithms, modes\n",
    "import os\n",
    "\n",
    "textA = b'Trump is the next president of the US'\n",
    "textB = b'Biden stays president of the US'\n",
    "\n",
    "iv = os.urandom(len(key))\n",
    "\n",
    "cipherA = Cipher(algorithms.AES(key),modes.CTR(b'1'*len(key))).encryptor()\n",
    "cipherB = Cipher(algorithms.AES(key),modes.CTR(b'1'*len(key))).encryptor()\n",
    "\n",
    "encA = cipherA.update(textA)\n",
    "encB = cipherB.update(textB)"
   ]
  },
  {
   "cell_type": "code",
   "execution_count": null,
   "metadata": {},
   "outputs": [],
   "source": [
    "print(bytes(a ^ b for (a, b) in zip(textA,textB)))\n",
    "print(bytes(a ^ b for (a, b) in zip(encA,encB)))"
   ]
  },
  {
   "cell_type": "markdown",
   "metadata": {},
   "source": [
    "## Exercise 2: ChaCha20 <a name=\"chacha\"/>\n",
    "Try to implement ChaCha20 by yourself. For correctness use the test vectors given by [RFC7539](https://tools.ietf.org/html/rfc7539)\n",
    "1. [ChaCha20 quarter round](https://tools.ietf.org/html/rfc7539#section-2.1)"
   ]
  },
  {
   "cell_type": "code",
   "execution_count": 1,
   "metadata": {},
   "outputs": [],
   "source": [
    "def plus(ina,inb):\n",
    "    x = int.from_bytes(ina, byteorder='big')+int.from_bytes(inb, byteorder='big')\n",
    "    return (x & 0xFFFFFFFF).to_bytes(4, 'big')\n",
    "\n",
    "def xor(ina,inb):\n",
    "    return bytes(a^b for (a, b) in zip(ina,inb))\n",
    "\n",
    "def rotl(a,b):\n",
    "    x = int.from_bytes(a, byteorder='big')\n",
    "    x =(((x) << (b)) | ((x) >> (32 - (b))))\n",
    "    return (x & 0xFFFFFFFF).to_bytes(4, 'big')\n",
    "\n",
    "#Quarter Round Function\n",
    "def qr(a, b, c, d):\n",
    "    a = plus(a,b)\n",
    "    d = xor(a,d)\n",
    "    d = rotl(d,16)\n",
    "    c = plus(c,d)\n",
    "    b = xor(b,c)\n",
    "    b = rotl(b,12)\n",
    "    a = plus(a,b)\n",
    "    d = xor(a,d)\n",
    "    d = rotl(d,8)\n",
    "    c = plus(c,d)\n",
    "    b = xor(b,c)\n",
    "    b = rotl(b,7)\n",
    "    return (a,b,c,d)"
   ]
  },
  {
   "cell_type": "code",
   "execution_count": 2,
   "metadata": {},
   "outputs": [
    {
     "name": "stdout",
     "output_type": "stream",
     "text": [
      "11111111 -> ea2a92f4\n",
      "01020304 -> cb1cf8ce\n",
      "9b8d6f43 -> 4581472e\n",
      "01234567 -> 5881c4bb\n"
     ]
    }
   ],
   "source": [
    "#Tests for Quarter Round\n",
    "\n",
    "a = bytes.fromhex(\"11111111\")\n",
    "b = bytes.fromhex(\"01020304\")\n",
    "c = bytes.fromhex(\"9b8d6f43\")\n",
    "d = bytes.fromhex(\"01234567\")\n",
    "\n",
    "(a2,b2,c2,d2) = qr(a,b,c,d)\n",
    "print(a.hex(),'->',a2.hex())\n",
    "print(b.hex(),'->',b2.hex())\n",
    "print(c.hex(),'->',c2.hex())\n",
    "print(d.hex(),'->',d2.hex())"
   ]
  },
  {
   "cell_type": "markdown",
   "metadata": {},
   "source": [
    "\n",
    "2. [ChaCha20 block function](https://tools.ietf.org/html/rfc7539#section-2.3.2)"
   ]
  },
  {
   "cell_type": "code",
   "execution_count": null,
   "metadata": {},
   "outputs": [],
   "source": [
    "# ChaCha Rounds\n",
    "# Input State =  cccccccc  cccccccc  cccccccc  cccccccc\n",
    "#                kkkkkkkk  kkkkkkkk  kkkkkkkk  kkkkkkkk\n",
    "#                kkkkkkkk  kkkkkkkk  kkkkkkkk  kkkkkkkk\n",
    "#                bbbbbbbb  nnnnnnnn  nnnnnnnn  nnnnnnnn\n",
    "#   c=constant k=key b=blockcount n=nonce\n",
    "\n",
    "# b\"expand 32-byte k\" from RFC7539\n",
    "constant = bytes.fromhex(\"61707865\") + bytes.fromhex(\"3320646e\") + bytes.fromhex(\"79622d32\") + bytes.fromhex(\"6b206574\")\n",
    "\n",
    "# Helper Method to print the state more nicely\n",
    "def print_state(state):\n",
    "    for i in range(4):\n",
    "        print(state[i*4].hex(),state[i*4+1].hex(),state[i*4+2].hex(),state[i*4+3].hex())\n",
    "\n",
    "\n",
    "#// Odd round\n",
    "#QR(0, 4,  8, 12)\t// 1st column\n",
    "#QR(1, 5,  9, 13)\t// 2nd column\n",
    "#QR(2, 6, 10, 14)\t// 3rd column\n",
    "#QR(3, 7, 11, 15)\t// 4th column\n",
    "#// Even round\n",
    "#QR(0, 5, 10, 15)\t// diagonal 1 (main diagonal)\n",
    "#QR(1, 6, 11, 12)\t// diagonal 2\n",
    "#QR(2, 7,  8, 13)\t// diagonal 3\n",
    "#QR(3, 4,  9, 14)\t// diagonal 4\n",
    "def inner_block(state):\n",
    "    (state[0],state[4],state[8],state[12]) = qr(state[0],state[4], state[8],state[12])\n",
    "    (state[1],state[5],state[9],state[13]) = qr(state[1],state[5], state[9],state[13])\n",
    "    (state[2],state[6],state[10],state[14]) = qr(state[2],state[6], state[10],state[14])\n",
    "    (state[3],state[7],state[11],state[15]) = qr(state[3],state[7], state[11],state[15])\n",
    "    (state[0],state[5],state[10],state[15]) = qr(state[0],state[5], state[10],state[15])\n",
    "    (state[1],state[6],state[11],state[12]) = qr(state[1],state[6], state[11],state[12])\n",
    "    (state[2],state[7],state[8],state[13]) = qr(state[2],state[7], state[8],state[13])\n",
    "    (state[3],state[4],state[9],state[14]) = qr(state[3],state[4], state[9],state[14])\n",
    "\n",
    "# Prepare init state and run 10 rounds of inner block (20 rounds in total)\n",
    "def chacha20_block(key, counter, nonce):\n",
    "    state = constant + key + counter + nonce\n",
    "    #Initialize the array with the state. It's all binaries\n",
    "    working_state = []\n",
    "    for i in range(16):\n",
    "        working_state.append(state[i*4:(i+1)*4])\n",
    "    \n",
    "    #Save the init state, we need it for the last add\n",
    "    state=working_state.copy()\n",
    "    \n",
    "    # Apply the chacha double rounds\n",
    "    for i in range(10):\n",
    "        inner_block(working_state)\n",
    "    \n",
    "    #add the init state to the result\n",
    "    for i in range(16):\n",
    "        working_state[i]=plus(working_state[i],state[i])\n",
    "    \n",
    "    out=b''\n",
    "    for i in range(16):\n",
    "        out += working_state[i]\n",
    "    return (out,working_state, state)"
   ]
  },
  {
   "cell_type": "markdown",
   "metadata": {},
   "source": [
    "Test the ChaCha20_block function with the test parameters from RFC7539\n",
    "\n",
    "input: \n",
    "```\n",
    "61707865  3320646e  79622d32  6b206574\n",
    "03020100  07060504  0b0a0908  0f0e0d0c\n",
    "13121110  17161514  1b1a1918  1f1e1d1c\n",
    "00000001  09000000  4a000000  00000000\n",
    "```       \n",
    "expected output\n",
    "\n",
    "```\n",
    "e4e7f110  15593bd1  1fdd0f50  c47120a3\n",
    "c7f4d1c7  0368c033  9aaa2204  4e6cd4c3\n",
    "466482d2  09aa9f07  05d7c214  a2028bd9\n",
    "d19c12b5  b94e16de  e883d0cb  4e3c50a2\n",
    "```"
   ]
  },
  {
   "cell_type": "code",
   "execution_count": null,
   "metadata": {},
   "outputs": [],
   "source": [
    "# Test\n",
    "key = bytes.fromhex(\"03020100070605040b0a09080f0e0d0c13121110171615141b1a19181f1e1d1c\")\n",
    "nonce = bytes.fromhex(\"090000004a00000000000000\")\n",
    "counter = bytes.fromhex(\"00000001\")\n",
    "\n",
    "(x,out,init) = chacha20_block(key,counter,nonce)\n",
    "print_state(init)\n",
    "print()\n",
    "print_state(out)"
   ]
  },
  {
   "cell_type": "markdown",
   "metadata": {},
   "source": [
    "\n",
    "3. [ChaCha20 encryption](https://tools.ietf.org/html/rfc7539#section-2.4.2)"
   ]
  },
  {
   "cell_type": "code",
   "execution_count": null,
   "metadata": {},
   "outputs": [],
   "source": [
    "# Helper method which reorders the bytes in the key stream.\n",
    "def reorder_keystream(keystream):\n",
    "    #reoder keystream\n",
    "    temp = bytearray(keystream)\n",
    "    for i in range(0,len(keystream),2):\n",
    "        temp[i] = keystream[i+1]\n",
    "        temp[i+1] = keystream[i]\n",
    "    keystream = temp.copy()\n",
    "    for i in range(0,len(keystream),4):\n",
    "        temp[i] = keystream[i+2]\n",
    "        temp[i+1] = keystream[i+3]\n",
    "        temp[i+2] = keystream[i]\n",
    "        temp[i+3] = keystream[i+1]\n",
    "    return temp\n",
    "        \n",
    "# create a keystream which is as long as the message and xor with the message.    \n",
    "def encrypt(key,msg,counter,nonce):\n",
    "    blocks=int(len(msg)/64)+1\n",
    "    cipher = b''\n",
    "    final_keystream=b''\n",
    "    for i in range(blocks):\n",
    "        c = (counter+i & 0xFFFFFFFF).to_bytes(4, 'big')\n",
    "        keystream = chacha20_block(key,c,nonce)[0]\n",
    "        if (i+1)*32 <= len(msg):\n",
    "            final_keystream+=keystream\n",
    "        else:\n",
    "            final_keystream+=keystream[0:len(msg)]\n",
    "    \n",
    "    # we have to reorder the byte-stream in order to match the encoding of the test vectors\n",
    "    final_keystream = reorder_keystream(final_keystream)\n",
    "    \n",
    "    cipher = bytes(a ^ b for (a, b) in zip(msg,final_keystream))\n",
    "    return cipher"
   ]
  },
  {
   "cell_type": "markdown",
   "metadata": {},
   "source": [
    "Test message:\n",
    "```\n",
    "  000  4c 61 64 69 65 73 20 61 6e 64 20 47 65 6e 74 6c  Ladies and Gentl\n",
    "  016  65 6d 65 6e 20 6f 66 20 74 68 65 20 63 6c 61 73  emen of the clas\n",
    "  032  73 20 6f 66 20 27 39 39 3a 20 49 66 20 49 20 63  s of '99: If I c\n",
    "  048  6f 75 6c 64 20 6f 66 66 65 72 20 79 6f 75 20 6f  ould offer you o\n",
    "  064  6e 6c 79 20 6f 6e 65 20 74 69 70 20 66 6f 72 20  nly one tip for\n",
    "  080  74 68 65 20 66 75 74 75 72 65 2c 20 73 75 6e 73  the future, suns\n",
    "  096  63 72 65 65 6e 20 77 6f 75 6c 64 20 62 65 20 69  creen would be i\n",
    "  112  74 2e \n",
    "```\n",
    "\n",
    "\n",
    "Ciphertext Sunscreen:\n",
    "```\n",
    "  000  6e 2e 35 9a 25 68 f9 80 41 ba 07 28 dd 0d 69 81  n.5.%h..A..(..i.\n",
    "  016  e9 7e 7a ec 1d 43 60 c2 0a 27 af cc fd 9f ae 0b  .~z..C`..'......\n",
    "  032  f9 1b 65 c5 52 47 33 ab 8f 59 3d ab cd 62 b3 57  ..e.RG3..Y=..b.W\n",
    "  048  16 39 d6 24 e6 51 52 ab 8f 53 0c 35 9f 08 61 d8  .9.$.QR..S.5..a.\n",
    "  064  07 ca 0d bf 50 0d 6a 61 56 a3 8e 08 8a 22 b6 5e  ....P.jaV....\".^\n",
    "  080  52 bc 51 4d 16 cc f8 06 81 8c e9 1a b7 79 37 36  R.QM.........y76\n",
    "  096  5a f9 0b bf 74 a3 5b e6 b4 0b 8e ed f2 78 5e 42  Z...t.[......x^B\n",
    "  112  87 4d        \n",
    "```"
   ]
  },
  {
   "cell_type": "code",
   "execution_count": null,
   "metadata": {},
   "outputs": [],
   "source": [
    "#Test\n",
    "msg = b'Ladies and Gentlemen of the class of \\'99: If I could offer you only one tip for the future, sunscreen would be it.'\n",
    "\n",
    "print('Message:')\n",
    "print(msg.hex())\n",
    "key = bytes.fromhex('03020100070605040b0a09080f0e0d0c13121110171615141b1a19181f1e1d1c')\n",
    "nonce = bytes.fromhex('000000004a00000000000000')\n",
    "counter = 1\n",
    "\n",
    "cipher = encrypt(key,msg,counter,nonce)\n",
    "print(\"Cipher:\")\n",
    "print(cipher.hex())\n"
   ]
  },
  {
   "cell_type": "markdown",
   "metadata": {},
   "source": [
    "## Exercise 3: OpenSSL <a name=\"openssl\"/>\n",
    "\n",
    "For a more practical usage of Cryptography, lets try out its usage with [OpenSSL](https://en.wikipedia.org/wiki/OpenSSL)\n",
    "\n",
    "OpenSSL is known for its broad usage in the internet, most famously for securing web-traffic e.g., for HTTP/s.\n",
    "However, OpenSSL offers many more functionalities and is actually a software library that contains implementation of various cryptographic protocols and functionalities and is available for various Unix and Windows operating systems. Additionally, it is open source, carefully reviewed by security experts and therefore widely accepted as secure. "
   ]
  },
  {
   "cell_type": "markdown",
   "metadata": {},
   "source": [
    "For end-users, openssl provides a [command line interface](https://wiki.openssl.org/index.php/Command_Line_Utilities), so that you can directly interact with the library.\n",
    "\n",
    "In Juypter Notebooks, you can directly run such command by starting the cells with `%%bash`, e.g. the following command \n",
    "1. generates a file `example.txt` with some random conent\n",
    "2. outputs the contents of the file `example.txt`"
   ]
  },
  {
   "cell_type": "code",
   "execution_count": 17,
   "metadata": {},
   "outputs": [
    {
     "name": "stdout",
     "output_type": "stream",
     "text": [
      "7i2lIv0PrvxoH/BE3jvzciY3jy5BbvdVdZgv+baU1LyjXwRkt5YRayx8kJbjy00V\n",
      "pk1e9b4T0Zco1Ixb5b+B4vOBTIYb6tWG2Dl2yuEp6tyRsmjC9Lb9aFt84OGTjsK+\n",
      "y2fKkEfS5y0dTQstLg+/qYiQ138SZsjXGdsJT/GhvERqPxbRIFUBMDG5yTvejDox\n",
      "K/TUb85IQ1cTTVjtWLHvW12ed4NJutvaK7X4+z0hXXtSTVXdiXMsFeaRU04a49CI\n",
      "mYu7RWnr9ISbtpRejd0Pyl/sgA/1xN1+7bsPPFHbV7koPBmSAn36raIji3+OD5AY\n",
      "iOwd7bOW0JHdnVSehNZGVWFMQnOBGsYRolHV3YBvF2XQj98cHqwM5y/HvSEg7GDc\n",
      "suD4bycoTN2i4YwbUn8OX8sEszwYhPLeo3ztRhWXcALTNIUAzbGeLUU3Ik4B7LfI\n",
      "TaGdxOzWbq/dKOcv8mCgQwyuUn2HQDdd5vayzds=\n"
     ]
    }
   ],
   "source": [
    "%%bash\n",
    "openssl rand -base64 365 > example.txt\n",
    "cat example.txt"
   ]
  },
  {
   "cell_type": "markdown",
   "metadata": {},
   "source": [
    "### 3.1 Encrypt a file with AES-256-CBC\n",
    "\n",
    "Encrypt the file ```example.txt``` with passwort ```CryptoIsalotofFun!```"
   ]
  },
  {
   "cell_type": "code",
   "execution_count": 24,
   "metadata": {},
   "outputs": [
    {
     "name": "stderr",
     "output_type": "stream",
     "text": [
      "*** WARNING : deprecated key derivation used.\n",
      "Using -iter or -pbkdf2 would be better.\n"
     ]
    },
    {
     "name": "stdout",
     "output_type": "stream",
     "text": [
      "Salted__J\u001c",
      "�v\u000e=Y�salt=4A1CE6760E3D599F\n",
      "key=73C887007766E0832C0711E397CF0E1A56E5193515E233F486271073F98CAD56\n",
      "iv =0464CCB987AE585825FA7C0B267D81AB\n",
      "�y�$���� ?p�0�M���Ӵ{��m�!L\u001e",
      "vC�Rpl�\u000b",
      "�\u000f�H�W��S��kHXΐU\u001bƓO\u001b'��\u000f_-b�\u0006\u000e���=��_��o<P'[BP�tM*ϴl\u001c",
      "!�+[�\u00109��\u0018���ϩO��l�\u0003J\u000e�\u0000�|�\n",
      "���;Й�q-�\u0005��KɃ����$З������f�ܛj�\\Nt��7y|\u0005b]�$\u0011W��d�q�J�Ѯ�\u000ea\u0015��r\u0015z\u001b\u0001:��w陖Q�q\u0019��\u0011\u00042�܌\u0015�U��ŭ3t���㱸��o�_�\u0010_.�>�\u001d",
      "���.=[mʞ�ꑫ\u0018�X�D��O�\f",
      "�a�\u0014E��������\u0016B� I@�K4\u0016��"
     ]
    }
   ],
   "source": [
    "%%bash\n",
    "openssl enc -aes-256-cbc --pass pass:CryptoIsalotofFun! -p -in example.txt"
   ]
  },
  {
   "cell_type": "markdown",
   "metadata": {},
   "source": [
    "Save the output in a file an try to decrypt it again!"
   ]
  },
  {
   "cell_type": "code",
   "execution_count": 32,
   "metadata": {},
   "outputs": [
    {
     "name": "stderr",
     "output_type": "stream",
     "text": [
      "*** WARNING : deprecated key derivation used.\n",
      "Using -iter or -pbkdf2 would be better.\n"
     ]
    },
    {
     "name": "stdout",
     "output_type": "stream",
     "text": [
      "salt=3242F25182E4600B\n",
      "key=78A9855685B91EC15772FB2122D5BC03C2DAC8FC4EBA9B8C2D5A4687B82B6D55\n",
      "iv =E749A9E92BEC2192619C556FA3149EE0\n"
     ]
    }
   ],
   "source": [
    "%%bash\n",
    "openssl enc -aes-256-cbc --pass pass:CryptoIsalotofFun! -p -in example.txt -out example.enc"
   ]
  },
  {
   "cell_type": "code",
   "execution_count": 33,
   "metadata": {},
   "outputs": [
    {
     "name": "stderr",
     "output_type": "stream",
     "text": [
      "*** WARNING : deprecated key derivation used.\n",
      "Using -iter or -pbkdf2 would be better.\n"
     ]
    },
    {
     "name": "stdout",
     "output_type": "stream",
     "text": [
      "salt=3242F25182E4600B\n",
      "key=78A9855685B91EC15772FB2122D5BC03C2DAC8FC4EBA9B8C2D5A4687B82B6D55\n",
      "iv =E749A9E92BEC2192619C556FA3149EE0\n",
      "7i2lIv0PrvxoH/BE3jvzciY3jy5BbvdVdZgv+baU1LyjXwRkt5YRayx8kJbjy00V\n",
      "pk1e9b4T0Zco1Ixb5b+B4vOBTIYb6tWG2Dl2yuEp6tyRsmjC9Lb9aFt84OGTjsK+\n",
      "y2fKkEfS5y0dTQstLg+/qYiQ138SZsjXGdsJT/GhvERqPxbRIFUBMDG5yTvejDox\n",
      "K/TUb85IQ1cTTVjtWLHvW12ed4NJutvaK7X4+z0hXXtSTVXdiXMsFeaRU04a49CI\n",
      "mYu7RWnr9ISbtpRejd0Pyl/sgA/1xN1+7bsPPFHbV7koPBmSAn36raIji3+OD5AY\n",
      "iOwd7bOW0JHdnVSehNZGVWFMQnOBGsYRolHV3YBvF2XQj98cHqwM5y/HvSEg7GDc\n",
      "suD4bycoTN2i4YwbUn8OX8sEszwYhPLeo3ztRhWXcALTNIUAzbGeLUU3Ik4B7LfI\n",
      "TaGdxOzWbq/dKOcv8mCgQwyuUn2HQDdd5vayzds=\n"
     ]
    }
   ],
   "source": [
    "%%bash\n",
    "openssl enc -d -aes-256-cbc --pass pass:CryptoIsalotofFun! -p -in example.enc"
   ]
  },
  {
   "cell_type": "markdown",
   "metadata": {},
   "source": [
    "### 3.2 Try with other encryption algorithms as much as you wish :)"
   ]
  },
  {
   "cell_type": "code",
   "execution_count": null,
   "metadata": {},
   "outputs": [],
   "source": []
  }
 ],
 "metadata": {
  "kernelspec": {
   "display_name": "Python 3 (ipykernel)",
   "language": "python",
   "name": "python3"
  },
  "language_info": {
   "codemirror_mode": {
    "name": "ipython",
    "version": 3
   },
   "file_extension": ".py",
   "mimetype": "text/x-python",
   "name": "python",
   "nbconvert_exporter": "python",
   "pygments_lexer": "ipython3",
   "version": "3.11.6"
  }
 },
 "nbformat": 4,
 "nbformat_minor": 4
}
